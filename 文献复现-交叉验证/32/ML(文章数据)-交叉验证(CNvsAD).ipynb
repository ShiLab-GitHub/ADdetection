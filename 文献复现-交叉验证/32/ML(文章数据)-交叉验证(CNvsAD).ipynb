{
 "cells": [
  {
   "cell_type": "code",
   "execution_count": 1,
   "id": "27af0b69",
   "metadata": {},
   "outputs": [],
   "source": [
    "from sklearn.ensemble import RandomForestClassifier as RandomForest\n",
    "from sklearn.metrics import accuracy_score\n",
    "import matplotlib.pyplot as plt\n",
    "import numpy as np\n",
    "import pandas as pd\n",
    "import scipy as sp\n",
    "import seaborn as sns\n",
    "import sklearn.metrics as metrics\n",
    "import warnings"
   ]
  },
  {
   "cell_type": "code",
   "execution_count": 2,
   "id": "6b28ffa4",
   "metadata": {},
   "outputs": [
    {
     "data": {
      "text/html": [
       "<div>\n",
       "<style scoped>\n",
       "    .dataframe tbody tr th:only-of-type {\n",
       "        vertical-align: middle;\n",
       "    }\n",
       "\n",
       "    .dataframe tbody tr th {\n",
       "        vertical-align: top;\n",
       "    }\n",
       "\n",
       "    .dataframe thead th {\n",
       "        text-align: right;\n",
       "    }\n",
       "</style>\n",
       "<table border=\"1\" class=\"dataframe\">\n",
       "  <thead>\n",
       "    <tr style=\"text-align: right;\">\n",
       "      <th></th>\n",
       "      <th>RID</th>\n",
       "      <th>Label</th>\n",
       "      <th>Visit_Code</th>\n",
       "      <th>RBM Sample ID</th>\n",
       "      <th>Sample_Received_Date</th>\n",
       "      <th>Alpha-1-Microglobulin (A1Micro) (ug/ml)</th>\n",
       "      <th>Alpha-2-Macroglobulin (A2Macro) (mg/mL)</th>\n",
       "      <th>Alpha-1-Antichymotrypsin (AACT) (ug/ml)</th>\n",
       "      <th>Alpha-1-Antitrypsin (AAT) (mg/mL)</th>\n",
       "      <th>Angiotensin-Converting Enzyme (ACE) (ng/ml)</th>\n",
       "      <th>...</th>\n",
       "      <th>Thrombopoietin (ng/mL)</th>\n",
       "      <th>TNF-Related Apoptosis-Inducing Ligand Re (ng/mL)</th>\n",
       "      <th>Serotransferrin (Transferrin) (mg/dl)</th>\n",
       "      <th>Thyroid-Stimulating Hormone  (TSH) (uIU/mL)</th>\n",
       "      <th>Transthyretin (TTR) (mg/dl)</th>\n",
       "      <th>Vascular Cell Adhesion Molecule-1 (VCAM- (ng/mL)</th>\n",
       "      <th>Vascular Endothelial Growth Factor (VEGF (pg/mL)</th>\n",
       "      <th>Vitronectin (ug/ml)</th>\n",
       "      <th>Vitamin K-Dependent Protein S (VKDPS) (ug/ml)</th>\n",
       "      <th>von Willebrand Factor (vWF) (ug/mL)</th>\n",
       "    </tr>\n",
       "  </thead>\n",
       "  <tbody>\n",
       "    <tr>\n",
       "      <th>0</th>\n",
       "      <td>3</td>\n",
       "      <td>AD</td>\n",
       "      <td>bl</td>\n",
       "      <td>KA8000CL-02</td>\n",
       "      <td>13-Sep-05</td>\n",
       "      <td>1.17609</td>\n",
       "      <td>0.07918</td>\n",
       "      <td>2.33445</td>\n",
       "      <td>0.44716</td>\n",
       "      <td>2.00432</td>\n",
       "      <td>...</td>\n",
       "      <td>1.3</td>\n",
       "      <td>1.34242</td>\n",
       "      <td>3.41330</td>\n",
       "      <td>0.55630</td>\n",
       "      <td>2.68305</td>\n",
       "      <td>2.98722</td>\n",
       "      <td>2.97035</td>\n",
       "      <td>2.96379</td>\n",
       "      <td>1.23045</td>\n",
       "      <td>1.14613</td>\n",
       "    </tr>\n",
       "    <tr>\n",
       "      <th>1</th>\n",
       "      <td>8</td>\n",
       "      <td>CN</td>\n",
       "      <td>bl</td>\n",
       "      <td>GA8000D4-02</td>\n",
       "      <td>20-Sep-05</td>\n",
       "      <td>0.97313</td>\n",
       "      <td>0.27875</td>\n",
       "      <td>3.12710</td>\n",
       "      <td>0.50515</td>\n",
       "      <td>1.97772</td>\n",
       "      <td>...</td>\n",
       "      <td>2.1</td>\n",
       "      <td>0.75587</td>\n",
       "      <td>3.46982</td>\n",
       "      <td>0.32222</td>\n",
       "      <td>2.67943</td>\n",
       "      <td>2.86153</td>\n",
       "      <td>2.81954</td>\n",
       "      <td>2.88986</td>\n",
       "      <td>1.41497</td>\n",
       "      <td>1.89763</td>\n",
       "    </tr>\n",
       "    <tr>\n",
       "      <th>2</th>\n",
       "      <td>8</td>\n",
       "      <td>CN</td>\n",
       "      <td>m12</td>\n",
       "      <td>HA803FG6-02</td>\n",
       "      <td>21-Sep-06</td>\n",
       "      <td>0.94448</td>\n",
       "      <td>0.07918</td>\n",
       "      <td>3.16137</td>\n",
       "      <td>0.49136</td>\n",
       "      <td>1.96848</td>\n",
       "      <td>...</td>\n",
       "      <td>3.4</td>\n",
       "      <td>0.69897</td>\n",
       "      <td>3.37475</td>\n",
       "      <td>0.44716</td>\n",
       "      <td>2.50651</td>\n",
       "      <td>2.88423</td>\n",
       "      <td>2.87099</td>\n",
       "      <td>2.97081</td>\n",
       "      <td>1.41497</td>\n",
       "      <td>1.83251</td>\n",
       "    </tr>\n",
       "    <tr>\n",
       "      <th>3</th>\n",
       "      <td>10</td>\n",
       "      <td>AD</td>\n",
       "      <td>bl</td>\n",
       "      <td>AA80013M-03</td>\n",
       "      <td>11-Nov-05</td>\n",
       "      <td>1.14613</td>\n",
       "      <td>0.07918</td>\n",
       "      <td>2.41664</td>\n",
       "      <td>0.38021</td>\n",
       "      <td>2.10721</td>\n",
       "      <td>...</td>\n",
       "      <td>1.3</td>\n",
       "      <td>1.23045</td>\n",
       "      <td>3.35984</td>\n",
       "      <td>0.41497</td>\n",
       "      <td>2.40654</td>\n",
       "      <td>2.88024</td>\n",
       "      <td>2.74741</td>\n",
       "      <td>2.88536</td>\n",
       "      <td>1.23045</td>\n",
       "      <td>1.51851</td>\n",
       "    </tr>\n",
       "    <tr>\n",
       "      <th>4</th>\n",
       "      <td>14</td>\n",
       "      <td>CN</td>\n",
       "      <td>bl</td>\n",
       "      <td>BA802V7G-02</td>\n",
       "      <td>7-Nov-05</td>\n",
       "      <td>1.00000</td>\n",
       "      <td>0.07918</td>\n",
       "      <td>2.52244</td>\n",
       "      <td>0.47712</td>\n",
       "      <td>1.93952</td>\n",
       "      <td>...</td>\n",
       "      <td>1.0</td>\n",
       "      <td>1.14613</td>\n",
       "      <td>3.41830</td>\n",
       "      <td>0.07918</td>\n",
       "      <td>2.68124</td>\n",
       "      <td>2.68124</td>\n",
       "      <td>2.73400</td>\n",
       "      <td>2.90526</td>\n",
       "      <td>1.30103</td>\n",
       "      <td>1.77815</td>\n",
       "    </tr>\n",
       "  </tbody>\n",
       "</table>\n",
       "<p>5 rows × 151 columns</p>\n",
       "</div>"
      ],
      "text/plain": [
       "   RID Label Visit_Code RBM Sample ID Sample_Received_Date  \\\n",
       "0    3    AD         bl   KA8000CL-02            13-Sep-05   \n",
       "1    8    CN         bl   GA8000D4-02            20-Sep-05   \n",
       "2    8    CN        m12   HA803FG6-02            21-Sep-06   \n",
       "3   10    AD         bl   AA80013M-03            11-Nov-05   \n",
       "4   14    CN         bl   BA802V7G-02             7-Nov-05   \n",
       "\n",
       "   Alpha-1-Microglobulin (A1Micro) (ug/ml)  \\\n",
       "0                                  1.17609   \n",
       "1                                  0.97313   \n",
       "2                                  0.94448   \n",
       "3                                  1.14613   \n",
       "4                                  1.00000   \n",
       "\n",
       "   Alpha-2-Macroglobulin (A2Macro) (mg/mL)  \\\n",
       "0                                  0.07918   \n",
       "1                                  0.27875   \n",
       "2                                  0.07918   \n",
       "3                                  0.07918   \n",
       "4                                  0.07918   \n",
       "\n",
       "   Alpha-1-Antichymotrypsin (AACT) (ug/ml)  Alpha-1-Antitrypsin (AAT) (mg/mL)  \\\n",
       "0                                  2.33445                            0.44716   \n",
       "1                                  3.12710                            0.50515   \n",
       "2                                  3.16137                            0.49136   \n",
       "3                                  2.41664                            0.38021   \n",
       "4                                  2.52244                            0.47712   \n",
       "\n",
       "   Angiotensin-Converting Enzyme (ACE) (ng/ml)  ...  Thrombopoietin (ng/mL)  \\\n",
       "0                                      2.00432  ...                     1.3   \n",
       "1                                      1.97772  ...                     2.1   \n",
       "2                                      1.96848  ...                     3.4   \n",
       "3                                      2.10721  ...                     1.3   \n",
       "4                                      1.93952  ...                     1.0   \n",
       "\n",
       "   TNF-Related Apoptosis-Inducing Ligand Re (ng/mL)  \\\n",
       "0                                           1.34242   \n",
       "1                                           0.75587   \n",
       "2                                           0.69897   \n",
       "3                                           1.23045   \n",
       "4                                           1.14613   \n",
       "\n",
       "   Serotransferrin (Transferrin) (mg/dl)  \\\n",
       "0                                3.41330   \n",
       "1                                3.46982   \n",
       "2                                3.37475   \n",
       "3                                3.35984   \n",
       "4                                3.41830   \n",
       "\n",
       "   Thyroid-Stimulating Hormone  (TSH) (uIU/mL)  Transthyretin (TTR) (mg/dl)  \\\n",
       "0                                      0.55630                      2.68305   \n",
       "1                                      0.32222                      2.67943   \n",
       "2                                      0.44716                      2.50651   \n",
       "3                                      0.41497                      2.40654   \n",
       "4                                      0.07918                      2.68124   \n",
       "\n",
       "   Vascular Cell Adhesion Molecule-1 (VCAM- (ng/mL)  \\\n",
       "0                                           2.98722   \n",
       "1                                           2.86153   \n",
       "2                                           2.88423   \n",
       "3                                           2.88024   \n",
       "4                                           2.68124   \n",
       "\n",
       "   Vascular Endothelial Growth Factor (VEGF (pg/mL)  Vitronectin (ug/ml)  \\\n",
       "0                                           2.97035              2.96379   \n",
       "1                                           2.81954              2.88986   \n",
       "2                                           2.87099              2.97081   \n",
       "3                                           2.74741              2.88536   \n",
       "4                                           2.73400              2.90526   \n",
       "\n",
       "   Vitamin K-Dependent Protein S (VKDPS) (ug/ml)  \\\n",
       "0                                        1.23045   \n",
       "1                                        1.41497   \n",
       "2                                        1.41497   \n",
       "3                                        1.23045   \n",
       "4                                        1.30103   \n",
       "\n",
       "   von Willebrand Factor (vWF) (ug/mL)  \n",
       "0                              1.14613  \n",
       "1                              1.89763  \n",
       "2                              1.83251  \n",
       "3                              1.51851  \n",
       "4                              1.77815  \n",
       "\n",
       "[5 rows x 151 columns]"
      ]
     },
     "execution_count": 2,
     "metadata": {},
     "output_type": "execute_result"
    }
   ],
   "source": [
    "adnimerge = pd.read_csv('data-test(CNvsAD文章数据).csv') # 读取全部数据\n",
    "adnimerge.head()"
   ]
  },
  {
   "cell_type": "code",
   "execution_count": 3,
   "id": "e54a2643",
   "metadata": {},
   "outputs": [
    {
     "data": {
      "text/plain": [
       "AD    112\n",
       "CN    112\n",
       "Name: Label, dtype: int64"
      ]
     },
     "execution_count": 3,
     "metadata": {},
     "output_type": "execute_result"
    }
   ],
   "source": [
    "adnimerge['Label'].value_counts() # 重新查看目标分布"
   ]
  },
  {
   "cell_type": "code",
   "execution_count": 4,
   "id": "4a098d04",
   "metadata": {},
   "outputs": [
    {
     "data": {
      "text/plain": [
       "(224, 151)"
      ]
     },
     "execution_count": 4,
     "metadata": {},
     "output_type": "execute_result"
    }
   ],
   "source": [
    "# 查看全部数据大小\n",
    "adnimerge.shape"
   ]
  },
  {
   "cell_type": "code",
   "execution_count": 5,
   "id": "d0588ff5",
   "metadata": {},
   "outputs": [
    {
     "name": "stdout",
     "output_type": "stream",
     "text": [
      "RID 0\n",
      "Label 0\n",
      "Visit_Code 0\n",
      "RBM Sample ID 0\n",
      "Sample_Received_Date 0\n",
      "Alpha-1-Microglobulin (A1Micro) (ug/ml) 0\n",
      "Alpha-2-Macroglobulin (A2Macro) (mg/mL) 0\n",
      "Alpha-1-Antichymotrypsin (AACT) (ug/ml) 0\n",
      "Alpha-1-Antitrypsin (AAT) (mg/mL) 0\n",
      "Angiotensin-Converting Enzyme (ACE) (ng/ml) 0\n",
      "Adiponectin (ug/mL) 0\n",
      "Alpha-Fetoprotein (AFP) (ng/mL) 0\n",
      "Agouti-Related Protein (AGRP) (pg/mL) 0\n",
      "Angiopoietin-2 (ANG-2) (ng/mL) 0\n",
      "Angiotensinogen (ng/mL) 0\n",
      "Apolipoprotein A-I (Apo A-I) (mg/mL) 0\n",
      "Apolipoprotein A-II (Apo A-II) (ng/ml) 0\n",
      "Apolipoprotein A-IV (Apo A-IV) (ug/ml) 0\n",
      "Apolipoprotein B (Apo B) (ug/ml) 0\n",
      "Apolipoprotein C-I (Apo C-I) (ng/ml) 0\n",
      "Apolipoprotein C-III (Apo C-III) (ug/mL) 0\n",
      "Apolipoprotein D (Apo D) (ug/ml) 0\n",
      "Apolipoprotein E (Apo E) (ug/ml) 0\n",
      "Apolipoprotein H (Apo H) (ug/mL) 0\n",
      "AXL Receptor Tyrosine Kinase (AXL) (ng/mL) 0\n",
      "Beta-2-Microglobulin (B2M) (ug/mL) 0\n",
      "Brain-Derived Neurotrophic Factor (BDNF) (ng/mL) 0\n",
      "B Lymphocyte Chemoattractant (BLC) (pg/ml) 0\n",
      "Bone Morphogenetic Protein 6 (BMP-6) (ng/mL) 0\n",
      "Brain Natriuretic Peptide  (BNP) (pg/ml) 0\n",
      "Betacellulin (BTC) (pg/mL) 0\n",
      "Complement C3 (C3) (mg/mL) 0\n",
      "Cancer Antigen 19-9 (CA-19-9) (U/mL) 0\n",
      "Calcitonin (pg/mL) 0\n",
      "CD 40 antigen (CD40) (ng/mL) 0\n",
      "CD40 Ligand (CD40-L) (ng/mL) 0\n",
      "CD5 (CD5L) (ng/ml) 0\n",
      "Carcinoembryonic Antigen (CEA) (ng/mL) 0\n",
      "Chromogranin-A (CgA) (ng/mL) 0\n",
      "Creatine Kinase-MB (CK-MB) (ng/mL) 0\n",
      "Clusterin (CLU) (ug/ml) 0\n",
      "Ciliary Neurotrophic Factor (CNTF) (pg/mL) 0\n",
      "Complement Factor H (ug/ml) 0\n",
      "Cortisol (Cortisol) (ng/ml) 0\n",
      "C-peptide (ng/ml) 0\n",
      "C-Reactive Protein (CRP) (ug/mL) 0\n",
      "Cystatin-C (ng/ml) 0\n",
      "Epidermal Growth Factor (EGF) (pg/mL) 0\n",
      "Epidermal Growth Factor Receptor (EGFR) (ng/mL) 0\n",
      "Epithelial-Derived Neutrophil-Activating (ng/mL) 0\n",
      "Eotaxin-1 (pg/mL) 0\n",
      "Eotaxin-3 (pg/mL) 0\n",
      "E-Selectin (ng/mL) 0\n",
      "Fatty Acid-Binding Protein- heart  (FABP (ng/mL) 0\n",
      "Factor VII (ng/mL) 0\n",
      "FASLG Receptor (FAS) (ng/mL) 0\n",
      "Fas Ligand (FasL) (pg/mL) 0\n",
      "Fetuin-A (ug/ml) 0\n",
      "Fibroblast Growth Factor 4 (FGF-4) (pg/mL) 0\n",
      "Fibrinogen (mg/mL) 0\n",
      "Ferritin (FRTN) (ng/mL) 0\n",
      "Follicle-Stimulating Hormone (FSH) (mIU/mL) 0\n",
      "Growth Hormone (GH) (ng/mL) 0\n",
      "Growth-Regulated alpha protein (GRO-alph (pg/mL) 0\n",
      "Glutathione S-Transferase alpha (GST-alp (ng/ml) 0\n",
      "Haptoglobin (mg/mL) 0\n",
      "Heparin-Binding EGF-Like Growth Factor ( (pg/mL) 0\n",
      "Chemokine CC-4 (HCC-4) (ng/mL) 0\n",
      "Hepatocyte Growth Factor (HGF) (ng/mL) 0\n",
      "T Lymphocyte-Secreted Protein I-309 (I-3 (pg/mL) 0\n",
      "Intercellular Adhesion Molecule 1 (ICAM- (ng/mL) 0\n",
      "Immunoglobulin A (IgA) (mg/mL) 0\n",
      "Immunoglobulin E (IgE) (ng/mL) 0\n",
      "Insulin-like Growth Factor-Binding Prote (ng/mL) 0\n",
      "Immunoglobulin M (IGM) (mg/mL) 0\n",
      "Interleukin-13 (IL-13) (pg/mL) 0\n",
      "Interleukin-16 (IL-16) (pg/mL) 0\n",
      "Interleukin-18 (IL-18) (pg/mL) 0\n",
      "Interleukin-3 (IL-3) (ng/mL) 0\n",
      "Interleukin-6 receptor (IL-6r) (ng/mL) 0\n",
      "Interleukin-8 (IL-8) (pg/mL) 0\n",
      "Insulin (uIU/mL) 0\n",
      "Interferon gamma Induced Protein 10 (IP- (pg/ml) 0\n",
      "Kidney Injury Molecule-1  (KIM-1) (ng/ml) 0\n",
      "Leptin (ng/mL) 0\n",
      "Luteinizing Hormone  (LH) (mIU/mL) 0\n",
      "Apolipoprotein(a) (Lp(a)) (ug/mL) 0\n",
      "Monocyte Chemotactic Protein 1 (MCP-1) (pg/mL) 0\n",
      "Monocyte Chemotactic Protein 2 (MCP-2) (pg/ml) 0\n",
      "Monocyte Chemotactic Protein 3 (MCP-3) (pg/mL) 0\n",
      "Monocyte Chemotactic Protein 4 (MCP-4) (pg/ml) 0\n",
      "Macrophage Colony-Stimulating Factor 1 ( (ng/mL) 0\n",
      "Macrophage-Derived Chemokine (MDC) (pg/mL) 0\n",
      "Macrophage Migration Inhibitory Factor ( (ng/mL) 0\n",
      "Monokine Induced by Gamma Interferon (MI (pg/ml) 0\n",
      "Macrophage Inflammatory Protein-1 alpha (pg/mL) 0\n",
      "Macrophage Inflammatory Protein-1 beta ( (pg/mL) 0\n",
      "Macrophage Inflammatory Protein-3 alpha (pg/ml) 0\n",
      "Matrix Metalloproteinase-1 (MMP-1) (ng/ml) 0\n",
      "Matrix Metalloproteinase-10 (MMP-10) (ng/ml) 0\n",
      "Matrix Metalloproteinase-2 (MMP-2) (ng/mL) 0\n",
      "Matrix Metalloproteinase-7 (MMP-7) (ng/ml) 0\n",
      "Matrix Metalloproteinase-9 (MMP-9) (ng/mL) 0\n",
      "Matrix Metalloproteinase-9- total (MMP-9 (ng/ml) 0\n",
      "Myeloid Progenitor Inhibitory Factor 1 ( (ng/mL) 0\n",
      "Myeloperoxidase (MPO) (ng/mL) 0\n",
      "Myoglobin (ng/mL) 0\n",
      "Neutrophil Gelatinase-Associated Lipocal (ng/ml) 0\n",
      "Neuronal Cell Adhesion Molecule (Nr-CAM) (ng/mL) 0\n",
      "Osteopontin (ng/ml) 0\n",
      "Plasminogen Activator Inhibitor 1 (PAI-1 (ng/mL) 0\n",
      "Prostatic Acid Phosphatase (PAP) (ng/mL) 0\n",
      "Pregnancy-Associated Plasma Protein A (P (mIU/mL) 0\n",
      "Pulmonary and Activation-Regulated Chemo (ng/mL) 0\n",
      "Platelet-Derived Growth Factor BB (PDGF- (pg/ml) 0\n",
      "Placenta Growth Factor (PLGF) (pg/ml) 0\n",
      "Pancreatic Polypeptide (PPP) (pg/ml) 0\n",
      "Prolactin (PRL) (ng/ml) 0\n",
      "Proinsulin- Intact (pM) 0\n",
      "Proinsulin- Total (pM) 0\n",
      "Peptide YY (PYY) (pg/mL) 0\n",
      "Receptor for advanced glycosylation end (ng/mL) 0\n",
      "T-Cell-Specific Protein RANTES (RANTES) (ng/mL) 0\n",
      "Resistin (ng/ml) 0\n",
      "Serum Amyloid P-Component (SAP) (ug/mL) 0\n",
      "Stem Cell Factor (SCF) (pg/mL) 0\n",
      "Serum Glutamic Oxaloacetic Transaminase (ug/mL) 0\n",
      "Sex Hormone-Binding Globulin (SHBG) (nmol/L) 0\n",
      "Superoxide Dismutase 1- Soluble (SOD-1) (ng/mL) 0\n",
      "Sortilin (ng/mL) 0\n",
      "Thyroxine-Binding Globulin (TBG) (ug/mL) 0\n",
      "Thymus-Expressed Chemokine (TECK) (ng/mL) 0\n",
      "Testosterone- Total (ng/ml) 0\n",
      "Trefoil Factor 3 (TFF3) (ug/ml) 0\n",
      "Tamm-Horsfall Urinary Glycoprotein (THP) (ug/ml) 0\n",
      "Thrombospondin-1 (ng/mL) 0\n",
      "Tissue Inhibitor of Metalloproteinases 1 (ng/mL) 0\n",
      "Thrombomodulin (TM) (ng/ml) 0\n",
      "Tenascin-C (TN-C) (ng/mL) 0\n",
      "Tumor Necrosis Factor alpha (TNF-alpha) (pg/mL) 0\n",
      "Tumor Necrosis Factor Receptor-Like 2 (T (ng/mL) 0\n",
      "Thrombopoietin (ng/mL) 0\n",
      "TNF-Related Apoptosis-Inducing Ligand Re (ng/mL) 0\n",
      "Serotransferrin (Transferrin) (mg/dl) 0\n",
      "Thyroid-Stimulating Hormone  (TSH) (uIU/mL) 0\n",
      "Transthyretin (TTR) (mg/dl) 0\n",
      "Vascular Cell Adhesion Molecule-1 (VCAM- (ng/mL) 0\n",
      "Vascular Endothelial Growth Factor (VEGF (pg/mL) 0\n",
      "Vitronectin (ug/ml) 0\n",
      "Vitamin K-Dependent Protein S (VKDPS) (ug/ml) 0\n",
      "von Willebrand Factor (vWF) (ug/mL) 0\n"
     ]
    }
   ],
   "source": [
    "# 缺失值计数\n",
    "for col in adnimerge.columns:\n",
    "    print(col, adnimerge[col].isnull().sum())"
   ]
  },
  {
   "cell_type": "code",
   "execution_count": 6,
   "id": "b68251d9",
   "metadata": {},
   "outputs": [
    {
     "data": {
      "text/html": [
       "<div>\n",
       "<style scoped>\n",
       "    .dataframe tbody tr th:only-of-type {\n",
       "        vertical-align: middle;\n",
       "    }\n",
       "\n",
       "    .dataframe tbody tr th {\n",
       "        vertical-align: top;\n",
       "    }\n",
       "\n",
       "    .dataframe thead th {\n",
       "        text-align: right;\n",
       "    }\n",
       "</style>\n",
       "<table border=\"1\" class=\"dataframe\">\n",
       "  <thead>\n",
       "    <tr style=\"text-align: right;\">\n",
       "      <th></th>\n",
       "      <th>Label</th>\n",
       "      <th>Alpha-1-Microglobulin (A1Micro) (ug/ml)</th>\n",
       "      <th>Apolipoprotein E (Apo E) (ug/ml)</th>\n",
       "      <th>Brain Natriuretic Peptide  (BNP) (pg/ml)</th>\n",
       "      <th>Interleukin-16 (IL-16) (pg/mL)</th>\n",
       "      <th>Serum Glutamic Oxaloacetic Transaminase (ug/mL)</th>\n",
       "    </tr>\n",
       "  </thead>\n",
       "  <tbody>\n",
       "    <tr>\n",
       "      <th>0</th>\n",
       "      <td>AD</td>\n",
       "      <td>1.17609</td>\n",
       "      <td>1.57978</td>\n",
       "      <td>3.11394</td>\n",
       "      <td>2.50651</td>\n",
       "      <td>2.3</td>\n",
       "    </tr>\n",
       "    <tr>\n",
       "      <th>1</th>\n",
       "      <td>CN</td>\n",
       "      <td>0.97313</td>\n",
       "      <td>2.06819</td>\n",
       "      <td>2.89818</td>\n",
       "      <td>2.71265</td>\n",
       "      <td>4.3</td>\n",
       "    </tr>\n",
       "    <tr>\n",
       "      <th>2</th>\n",
       "      <td>CN</td>\n",
       "      <td>0.94448</td>\n",
       "      <td>2.06819</td>\n",
       "      <td>2.95182</td>\n",
       "      <td>2.69285</td>\n",
       "      <td>7.1</td>\n",
       "    </tr>\n",
       "    <tr>\n",
       "      <th>3</th>\n",
       "      <td>AD</td>\n",
       "      <td>1.14613</td>\n",
       "      <td>1.88649</td>\n",
       "      <td>3.23300</td>\n",
       "      <td>2.60638</td>\n",
       "      <td>2.3</td>\n",
       "    </tr>\n",
       "    <tr>\n",
       "      <th>4</th>\n",
       "      <td>CN</td>\n",
       "      <td>1.00000</td>\n",
       "      <td>1.86332</td>\n",
       "      <td>2.40483</td>\n",
       "      <td>2.60206</td>\n",
       "      <td>3.0</td>\n",
       "    </tr>\n",
       "    <tr>\n",
       "      <th>...</th>\n",
       "      <td>...</td>\n",
       "      <td>...</td>\n",
       "      <td>...</td>\n",
       "      <td>...</td>\n",
       "      <td>...</td>\n",
       "      <td>...</td>\n",
       "    </tr>\n",
       "    <tr>\n",
       "      <th>219</th>\n",
       "      <td>AD</td>\n",
       "      <td>0.92942</td>\n",
       "      <td>1.69020</td>\n",
       "      <td>3.28330</td>\n",
       "      <td>2.35793</td>\n",
       "      <td>3.1</td>\n",
       "    </tr>\n",
       "    <tr>\n",
       "      <th>220</th>\n",
       "      <td>AD</td>\n",
       "      <td>1.07918</td>\n",
       "      <td>1.83885</td>\n",
       "      <td>2.87390</td>\n",
       "      <td>2.47857</td>\n",
       "      <td>2.8</td>\n",
       "    </tr>\n",
       "    <tr>\n",
       "      <th>221</th>\n",
       "      <td>AD</td>\n",
       "      <td>1.14613</td>\n",
       "      <td>1.87506</td>\n",
       "      <td>2.96895</td>\n",
       "      <td>2.52763</td>\n",
       "      <td>3.7</td>\n",
       "    </tr>\n",
       "    <tr>\n",
       "      <th>222</th>\n",
       "      <td>AD</td>\n",
       "      <td>1.00000</td>\n",
       "      <td>1.79239</td>\n",
       "      <td>2.60959</td>\n",
       "      <td>2.53020</td>\n",
       "      <td>2.5</td>\n",
       "    </tr>\n",
       "    <tr>\n",
       "      <th>223</th>\n",
       "      <td>AD</td>\n",
       "      <td>1.07918</td>\n",
       "      <td>1.75587</td>\n",
       "      <td>3.30320</td>\n",
       "      <td>2.67943</td>\n",
       "      <td>3.5</td>\n",
       "    </tr>\n",
       "  </tbody>\n",
       "</table>\n",
       "<p>224 rows × 6 columns</p>\n",
       "</div>"
      ],
      "text/plain": [
       "    Label  Alpha-1-Microglobulin (A1Micro) (ug/ml)  \\\n",
       "0      AD                                  1.17609   \n",
       "1      CN                                  0.97313   \n",
       "2      CN                                  0.94448   \n",
       "3      AD                                  1.14613   \n",
       "4      CN                                  1.00000   \n",
       "..    ...                                      ...   \n",
       "219    AD                                  0.92942   \n",
       "220    AD                                  1.07918   \n",
       "221    AD                                  1.14613   \n",
       "222    AD                                  1.00000   \n",
       "223    AD                                  1.07918   \n",
       "\n",
       "     Apolipoprotein E (Apo E) (ug/ml)  \\\n",
       "0                             1.57978   \n",
       "1                             2.06819   \n",
       "2                             2.06819   \n",
       "3                             1.88649   \n",
       "4                             1.86332   \n",
       "..                                ...   \n",
       "219                           1.69020   \n",
       "220                           1.83885   \n",
       "221                           1.87506   \n",
       "222                           1.79239   \n",
       "223                           1.75587   \n",
       "\n",
       "     Brain Natriuretic Peptide  (BNP) (pg/ml)  Interleukin-16 (IL-16) (pg/mL)  \\\n",
       "0                                     3.11394                         2.50651   \n",
       "1                                     2.89818                         2.71265   \n",
       "2                                     2.95182                         2.69285   \n",
       "3                                     3.23300                         2.60638   \n",
       "4                                     2.40483                         2.60206   \n",
       "..                                        ...                             ...   \n",
       "219                                   3.28330                         2.35793   \n",
       "220                                   2.87390                         2.47857   \n",
       "221                                   2.96895                         2.52763   \n",
       "222                                   2.60959                         2.53020   \n",
       "223                                   3.30320                         2.67943   \n",
       "\n",
       "     Serum Glutamic Oxaloacetic Transaminase (ug/mL)  \n",
       "0                                                2.3  \n",
       "1                                                4.3  \n",
       "2                                                7.1  \n",
       "3                                                2.3  \n",
       "4                                                3.0  \n",
       "..                                               ...  \n",
       "219                                              3.1  \n",
       "220                                              2.8  \n",
       "221                                              3.7  \n",
       "222                                              2.5  \n",
       "223                                              3.5  \n",
       "\n",
       "[224 rows x 6 columns]"
      ]
     },
     "execution_count": 6,
     "metadata": {},
     "output_type": "execute_result"
    }
   ],
   "source": [
    "#根据文献筛选的特征\n",
    "data=adnimerge[['Label','Alpha-1-Microglobulin (A1Micro) (ug/ml)','Apolipoprotein E (Apo E) (ug/ml)','Brain Natriuretic Peptide  (BNP) (pg/ml)',\n",
    "                 'Interleukin-16 (IL-16) (pg/mL)','Serum Glutamic Oxaloacetic Transaminase (ug/mL)'\n",
    "               ]]\n",
    "\n",
    "data"
   ]
  },
  {
   "cell_type": "code",
   "execution_count": 7,
   "id": "b2a80322",
   "metadata": {},
   "outputs": [
    {
     "data": {
      "text/plain": [
       "False"
      ]
     },
     "execution_count": 7,
     "metadata": {},
     "output_type": "execute_result"
    }
   ],
   "source": [
    "cols_with_na=[]\n",
    "\n",
    "for column in data:\n",
    "    if data[column].isnull().any()==True:\n",
    "        cols_with_na.append(column)\n",
    "\n",
    "# 平均值填充\n",
    "meandf = data.copy()\n",
    "for col in cols_with_na:\n",
    "    if data[col].dtype=='float64':\n",
    "        meandf[col] = data[col].fillna(data[col].mean())\n",
    "    else: #对于非数字数据\n",
    "        meandf[col] = data[col].fillna(data[col].mode()[0])\n",
    "        \n",
    "np.any(pd.isnull(meandf)) # If `False`，确认 meandf 现在是无 Nan 的"
   ]
  },
  {
   "cell_type": "code",
   "execution_count": 8,
   "id": "49a70023",
   "metadata": {},
   "outputs": [
    {
     "data": {
      "text/html": [
       "<div>\n",
       "<style scoped>\n",
       "    .dataframe tbody tr th:only-of-type {\n",
       "        vertical-align: middle;\n",
       "    }\n",
       "\n",
       "    .dataframe tbody tr th {\n",
       "        vertical-align: top;\n",
       "    }\n",
       "\n",
       "    .dataframe thead th {\n",
       "        text-align: right;\n",
       "    }\n",
       "</style>\n",
       "<table border=\"1\" class=\"dataframe\">\n",
       "  <thead>\n",
       "    <tr style=\"text-align: right;\">\n",
       "      <th></th>\n",
       "      <th>Label</th>\n",
       "      <th>Alpha-1-Microglobulin (A1Micro) (ug/ml)</th>\n",
       "      <th>Apolipoprotein E (Apo E) (ug/ml)</th>\n",
       "      <th>Brain Natriuretic Peptide  (BNP) (pg/ml)</th>\n",
       "      <th>Interleukin-16 (IL-16) (pg/mL)</th>\n",
       "      <th>Serum Glutamic Oxaloacetic Transaminase (ug/mL)</th>\n",
       "    </tr>\n",
       "  </thead>\n",
       "  <tbody>\n",
       "    <tr>\n",
       "      <th>0</th>\n",
       "      <td>AD</td>\n",
       "      <td>1.17609</td>\n",
       "      <td>1.57978</td>\n",
       "      <td>3.11394</td>\n",
       "      <td>2.50651</td>\n",
       "      <td>2.3</td>\n",
       "    </tr>\n",
       "    <tr>\n",
       "      <th>1</th>\n",
       "      <td>CN</td>\n",
       "      <td>0.97313</td>\n",
       "      <td>2.06819</td>\n",
       "      <td>2.89818</td>\n",
       "      <td>2.71265</td>\n",
       "      <td>4.3</td>\n",
       "    </tr>\n",
       "    <tr>\n",
       "      <th>2</th>\n",
       "      <td>CN</td>\n",
       "      <td>0.94448</td>\n",
       "      <td>2.06819</td>\n",
       "      <td>2.95182</td>\n",
       "      <td>2.69285</td>\n",
       "      <td>7.1</td>\n",
       "    </tr>\n",
       "    <tr>\n",
       "      <th>3</th>\n",
       "      <td>AD</td>\n",
       "      <td>1.14613</td>\n",
       "      <td>1.88649</td>\n",
       "      <td>3.23300</td>\n",
       "      <td>2.60638</td>\n",
       "      <td>2.3</td>\n",
       "    </tr>\n",
       "    <tr>\n",
       "      <th>4</th>\n",
       "      <td>CN</td>\n",
       "      <td>1.00000</td>\n",
       "      <td>1.86332</td>\n",
       "      <td>2.40483</td>\n",
       "      <td>2.60206</td>\n",
       "      <td>3.0</td>\n",
       "    </tr>\n",
       "  </tbody>\n",
       "</table>\n",
       "</div>"
      ],
      "text/plain": [
       "  Label  Alpha-1-Microglobulin (A1Micro) (ug/ml)  \\\n",
       "0    AD                                  1.17609   \n",
       "1    CN                                  0.97313   \n",
       "2    CN                                  0.94448   \n",
       "3    AD                                  1.14613   \n",
       "4    CN                                  1.00000   \n",
       "\n",
       "   Apolipoprotein E (Apo E) (ug/ml)  Brain Natriuretic Peptide  (BNP) (pg/ml)  \\\n",
       "0                           1.57978                                   3.11394   \n",
       "1                           2.06819                                   2.89818   \n",
       "2                           2.06819                                   2.95182   \n",
       "3                           1.88649                                   3.23300   \n",
       "4                           1.86332                                   2.40483   \n",
       "\n",
       "   Interleukin-16 (IL-16) (pg/mL)  \\\n",
       "0                         2.50651   \n",
       "1                         2.71265   \n",
       "2                         2.69285   \n",
       "3                         2.60638   \n",
       "4                         2.60206   \n",
       "\n",
       "   Serum Glutamic Oxaloacetic Transaminase (ug/mL)  \n",
       "0                                              2.3  \n",
       "1                                              4.3  \n",
       "2                                              7.1  \n",
       "3                                              2.3  \n",
       "4                                              3.0  "
      ]
     },
     "execution_count": 8,
     "metadata": {},
     "output_type": "execute_result"
    }
   ],
   "source": [
    "meandf.head()"
   ]
  },
  {
   "cell_type": "code",
   "execution_count": 9,
   "id": "0ad1dee1",
   "metadata": {},
   "outputs": [
    {
     "data": {
      "text/html": [
       "<div>\n",
       "<style scoped>\n",
       "    .dataframe tbody tr th:only-of-type {\n",
       "        vertical-align: middle;\n",
       "    }\n",
       "\n",
       "    .dataframe tbody tr th {\n",
       "        vertical-align: top;\n",
       "    }\n",
       "\n",
       "    .dataframe thead th {\n",
       "        text-align: right;\n",
       "    }\n",
       "</style>\n",
       "<table border=\"1\" class=\"dataframe\">\n",
       "  <thead>\n",
       "    <tr style=\"text-align: right;\">\n",
       "      <th></th>\n",
       "      <th>Label</th>\n",
       "      <th>Alpha-1-Microglobulin (A1Micro) (ug/ml)</th>\n",
       "      <th>Apolipoprotein E (Apo E) (ug/ml)</th>\n",
       "      <th>Brain Natriuretic Peptide  (BNP) (pg/ml)</th>\n",
       "      <th>Interleukin-16 (IL-16) (pg/mL)</th>\n",
       "      <th>Serum Glutamic Oxaloacetic Transaminase (ug/mL)</th>\n",
       "    </tr>\n",
       "  </thead>\n",
       "  <tbody>\n",
       "    <tr>\n",
       "      <th>0</th>\n",
       "      <td>1</td>\n",
       "      <td>1.17609</td>\n",
       "      <td>1.57978</td>\n",
       "      <td>3.11394</td>\n",
       "      <td>2.50651</td>\n",
       "      <td>2.3</td>\n",
       "    </tr>\n",
       "    <tr>\n",
       "      <th>1</th>\n",
       "      <td>0</td>\n",
       "      <td>0.97313</td>\n",
       "      <td>2.06819</td>\n",
       "      <td>2.89818</td>\n",
       "      <td>2.71265</td>\n",
       "      <td>4.3</td>\n",
       "    </tr>\n",
       "    <tr>\n",
       "      <th>2</th>\n",
       "      <td>0</td>\n",
       "      <td>0.94448</td>\n",
       "      <td>2.06819</td>\n",
       "      <td>2.95182</td>\n",
       "      <td>2.69285</td>\n",
       "      <td>7.1</td>\n",
       "    </tr>\n",
       "    <tr>\n",
       "      <th>3</th>\n",
       "      <td>1</td>\n",
       "      <td>1.14613</td>\n",
       "      <td>1.88649</td>\n",
       "      <td>3.23300</td>\n",
       "      <td>2.60638</td>\n",
       "      <td>2.3</td>\n",
       "    </tr>\n",
       "    <tr>\n",
       "      <th>4</th>\n",
       "      <td>0</td>\n",
       "      <td>1.00000</td>\n",
       "      <td>1.86332</td>\n",
       "      <td>2.40483</td>\n",
       "      <td>2.60206</td>\n",
       "      <td>3.0</td>\n",
       "    </tr>\n",
       "  </tbody>\n",
       "</table>\n",
       "</div>"
      ],
      "text/plain": [
       "   Label  Alpha-1-Microglobulin (A1Micro) (ug/ml)  \\\n",
       "0      1                                  1.17609   \n",
       "1      0                                  0.97313   \n",
       "2      0                                  0.94448   \n",
       "3      1                                  1.14613   \n",
       "4      0                                  1.00000   \n",
       "\n",
       "   Apolipoprotein E (Apo E) (ug/ml)  Brain Natriuretic Peptide  (BNP) (pg/ml)  \\\n",
       "0                           1.57978                                   3.11394   \n",
       "1                           2.06819                                   2.89818   \n",
       "2                           2.06819                                   2.95182   \n",
       "3                           1.88649                                   3.23300   \n",
       "4                           1.86332                                   2.40483   \n",
       "\n",
       "   Interleukin-16 (IL-16) (pg/mL)  \\\n",
       "0                         2.50651   \n",
       "1                         2.71265   \n",
       "2                         2.69285   \n",
       "3                         2.60638   \n",
       "4                         2.60206   \n",
       "\n",
       "   Serum Glutamic Oxaloacetic Transaminase (ug/mL)  \n",
       "0                                              2.3  \n",
       "1                                              4.3  \n",
       "2                                              7.1  \n",
       "3                                              2.3  \n",
       "4                                              3.0  "
      ]
     },
     "execution_count": 9,
     "metadata": {},
     "output_type": "execute_result"
    }
   ],
   "source": [
    "# 对目标进行映射编码\n",
    "mapping = {\n",
    "           'CN': 0,\n",
    "           'AD': 1,\n",
    "#           'MCI': 2,\n",
    "#           'EMCI':3,\n",
    "#           'SMC':4\n",
    "}\n",
    "meandf['Label'] =meandf['Label'].map(mapping)\n",
    "meandf.head()"
   ]
  },
  {
   "cell_type": "code",
   "execution_count": 10,
   "id": "b0cb5684",
   "metadata": {},
   "outputs": [
    {
     "data": {
      "text/plain": [
       "Label                                              0\n",
       "Alpha-1-Microglobulin (A1Micro) (ug/ml)            0\n",
       "Apolipoprotein E (Apo E) (ug/ml)                   0\n",
       "Brain Natriuretic Peptide  (BNP) (pg/ml)           0\n",
       "Interleukin-16 (IL-16) (pg/mL)                     0\n",
       "Serum Glutamic Oxaloacetic Transaminase (ug/mL)    0\n",
       "dtype: int64"
      ]
     },
     "execution_count": 10,
     "metadata": {},
     "output_type": "execute_result"
    }
   ],
   "source": [
    "meandf.isnull().sum()"
   ]
  },
  {
   "cell_type": "code",
   "execution_count": 11,
   "id": "b2b7ce83",
   "metadata": {},
   "outputs": [
    {
     "data": {
      "text/html": [
       "<div>\n",
       "<style scoped>\n",
       "    .dataframe tbody tr th:only-of-type {\n",
       "        vertical-align: middle;\n",
       "    }\n",
       "\n",
       "    .dataframe tbody tr th {\n",
       "        vertical-align: top;\n",
       "    }\n",
       "\n",
       "    .dataframe thead th {\n",
       "        text-align: right;\n",
       "    }\n",
       "</style>\n",
       "<table border=\"1\" class=\"dataframe\">\n",
       "  <thead>\n",
       "    <tr style=\"text-align: right;\">\n",
       "      <th></th>\n",
       "      <th>Alpha-1-Microglobulin (A1Micro) (ug/ml)</th>\n",
       "      <th>Apolipoprotein E (Apo E) (ug/ml)</th>\n",
       "      <th>Brain Natriuretic Peptide  (BNP) (pg/ml)</th>\n",
       "      <th>Interleukin-16 (IL-16) (pg/mL)</th>\n",
       "      <th>Serum Glutamic Oxaloacetic Transaminase (ug/mL)</th>\n",
       "    </tr>\n",
       "  </thead>\n",
       "  <tbody>\n",
       "    <tr>\n",
       "      <th>0</th>\n",
       "      <td>1.17609</td>\n",
       "      <td>1.57978</td>\n",
       "      <td>3.11394</td>\n",
       "      <td>2.50651</td>\n",
       "      <td>2.3</td>\n",
       "    </tr>\n",
       "    <tr>\n",
       "      <th>1</th>\n",
       "      <td>0.97313</td>\n",
       "      <td>2.06819</td>\n",
       "      <td>2.89818</td>\n",
       "      <td>2.71265</td>\n",
       "      <td>4.3</td>\n",
       "    </tr>\n",
       "    <tr>\n",
       "      <th>2</th>\n",
       "      <td>0.94448</td>\n",
       "      <td>2.06819</td>\n",
       "      <td>2.95182</td>\n",
       "      <td>2.69285</td>\n",
       "      <td>7.1</td>\n",
       "    </tr>\n",
       "    <tr>\n",
       "      <th>3</th>\n",
       "      <td>1.14613</td>\n",
       "      <td>1.88649</td>\n",
       "      <td>3.23300</td>\n",
       "      <td>2.60638</td>\n",
       "      <td>2.3</td>\n",
       "    </tr>\n",
       "    <tr>\n",
       "      <th>4</th>\n",
       "      <td>1.00000</td>\n",
       "      <td>1.86332</td>\n",
       "      <td>2.40483</td>\n",
       "      <td>2.60206</td>\n",
       "      <td>3.0</td>\n",
       "    </tr>\n",
       "    <tr>\n",
       "      <th>...</th>\n",
       "      <td>...</td>\n",
       "      <td>...</td>\n",
       "      <td>...</td>\n",
       "      <td>...</td>\n",
       "      <td>...</td>\n",
       "    </tr>\n",
       "    <tr>\n",
       "      <th>219</th>\n",
       "      <td>0.92942</td>\n",
       "      <td>1.69020</td>\n",
       "      <td>3.28330</td>\n",
       "      <td>2.35793</td>\n",
       "      <td>3.1</td>\n",
       "    </tr>\n",
       "    <tr>\n",
       "      <th>220</th>\n",
       "      <td>1.07918</td>\n",
       "      <td>1.83885</td>\n",
       "      <td>2.87390</td>\n",
       "      <td>2.47857</td>\n",
       "      <td>2.8</td>\n",
       "    </tr>\n",
       "    <tr>\n",
       "      <th>221</th>\n",
       "      <td>1.14613</td>\n",
       "      <td>1.87506</td>\n",
       "      <td>2.96895</td>\n",
       "      <td>2.52763</td>\n",
       "      <td>3.7</td>\n",
       "    </tr>\n",
       "    <tr>\n",
       "      <th>222</th>\n",
       "      <td>1.00000</td>\n",
       "      <td>1.79239</td>\n",
       "      <td>2.60959</td>\n",
       "      <td>2.53020</td>\n",
       "      <td>2.5</td>\n",
       "    </tr>\n",
       "    <tr>\n",
       "      <th>223</th>\n",
       "      <td>1.07918</td>\n",
       "      <td>1.75587</td>\n",
       "      <td>3.30320</td>\n",
       "      <td>2.67943</td>\n",
       "      <td>3.5</td>\n",
       "    </tr>\n",
       "  </tbody>\n",
       "</table>\n",
       "<p>224 rows × 5 columns</p>\n",
       "</div>"
      ],
      "text/plain": [
       "     Alpha-1-Microglobulin (A1Micro) (ug/ml)  \\\n",
       "0                                    1.17609   \n",
       "1                                    0.97313   \n",
       "2                                    0.94448   \n",
       "3                                    1.14613   \n",
       "4                                    1.00000   \n",
       "..                                       ...   \n",
       "219                                  0.92942   \n",
       "220                                  1.07918   \n",
       "221                                  1.14613   \n",
       "222                                  1.00000   \n",
       "223                                  1.07918   \n",
       "\n",
       "     Apolipoprotein E (Apo E) (ug/ml)  \\\n",
       "0                             1.57978   \n",
       "1                             2.06819   \n",
       "2                             2.06819   \n",
       "3                             1.88649   \n",
       "4                             1.86332   \n",
       "..                                ...   \n",
       "219                           1.69020   \n",
       "220                           1.83885   \n",
       "221                           1.87506   \n",
       "222                           1.79239   \n",
       "223                           1.75587   \n",
       "\n",
       "     Brain Natriuretic Peptide  (BNP) (pg/ml)  Interleukin-16 (IL-16) (pg/mL)  \\\n",
       "0                                     3.11394                         2.50651   \n",
       "1                                     2.89818                         2.71265   \n",
       "2                                     2.95182                         2.69285   \n",
       "3                                     3.23300                         2.60638   \n",
       "4                                     2.40483                         2.60206   \n",
       "..                                        ...                             ...   \n",
       "219                                   3.28330                         2.35793   \n",
       "220                                   2.87390                         2.47857   \n",
       "221                                   2.96895                         2.52763   \n",
       "222                                   2.60959                         2.53020   \n",
       "223                                   3.30320                         2.67943   \n",
       "\n",
       "     Serum Glutamic Oxaloacetic Transaminase (ug/mL)  \n",
       "0                                                2.3  \n",
       "1                                                4.3  \n",
       "2                                                7.1  \n",
       "3                                                2.3  \n",
       "4                                                3.0  \n",
       "..                                               ...  \n",
       "219                                              3.1  \n",
       "220                                              2.8  \n",
       "221                                              3.7  \n",
       "222                                              2.5  \n",
       "223                                              3.5  \n",
       "\n",
       "[224 rows x 5 columns]"
      ]
     },
     "execution_count": 11,
     "metadata": {},
     "output_type": "execute_result"
    }
   ],
   "source": [
    "X=meandf.drop(['Label'],axis=1)#把RID，标签，测试时间这些非数据信息分开\n",
    "y=meandf['Label']#标签信息\n",
    "X"
   ]
  },
  {
   "cell_type": "code",
   "execution_count": 12,
   "id": "d1db0df7",
   "metadata": {},
   "outputs": [
    {
     "data": {
      "image/png": "[encoded data removed]",
      "text/plain": [
       "<Figure size 432x288 with 1 Axes>"
      ]
     },
     "metadata": {
      "needs_background": "light"
     },
     "output_type": "display_data"
    }
   ],
   "source": [
    "plt.bar(y.value_counts().index, y.value_counts())\n",
    "plt.show()"
   ]
  },
  {
   "cell_type": "code",
   "execution_count": 13,
   "id": "2d7fe1b2",
   "metadata": {},
   "outputs": [],
   "source": [
    "# # 特征缩放，归一化\n",
    "from sklearn.preprocessing import StandardScaler\n",
    "sc = StandardScaler()"
   ]
  },
  {
   "cell_type": "code",
   "execution_count": 14,
   "id": "f1349ae1",
   "metadata": {},
   "outputs": [],
   "source": [
    "#RF\n",
    "from sklearn.ensemble import RandomForestClassifier\n",
    "model_RF = RandomForestClassifier(random_state=10, n_estimators=100)"
   ]
  },
  {
   "cell_type": "code",
   "execution_count": 15,
   "id": "343fb6f9",
   "metadata": {},
   "outputs": [
    {
     "name": "stdout",
     "output_type": "stream",
     "text": [
      "[0.8        0.77777778 0.64444444 0.77777778 0.84090909]\n"
     ]
    }
   ],
   "source": [
    "#K折交叉验证简单例子  RF\n",
    "from sklearn.model_selection import KFold\n",
    "from sklearn.model_selection import RepeatedKFold\n",
    "from sklearn.model_selection import cross_val_score\n",
    "#model = classifier#建立一个模型\n",
    "kf=KFold(n_splits=5,shuffle=True)#建立k折\n",
    "rkf = RepeatedKFold(n_splits=5, n_repeats=10, random_state =100)#建立rkf\n",
    "print(cross_val_score(model_RF, X, y, scoring='accuracy', cv=kf))#将k折应用到模型，并返回结果。\n",
    "#cross_val_score是一个计算得分的函数"
   ]
  },
  {
   "cell_type": "code",
   "execution_count": 16,
   "id": "c0560312",
   "metadata": {},
   "outputs": [],
   "source": [
    "def false_positive_rate(y_true, y_pred):\n",
    "\n",
    "    # false positive\n",
    "    fp = ((y_pred == 1) & (y_true == 0)).sum()\n",
    "\n",
    "    # true negative\n",
    "    tn = ((y_pred == 0) & (y_true == 0)).sum()\n",
    "\n",
    "    # false positive rate\n",
    "    return fp / (fp + tn)"
   ]
  },
  {
   "cell_type": "code",
   "execution_count": 17,
   "id": "2fb6e371",
   "metadata": {},
   "outputs": [],
   "source": [
    "#逻辑回归\n",
    "from sklearn.linear_model import LogisticRegression\n",
    "model_LR = LogisticRegression()"
   ]
  },
  {
   "cell_type": "code",
   "execution_count": 18,
   "id": "d51b0acf",
   "metadata": {},
   "outputs": [
    {
     "name": "stdout",
     "output_type": "stream",
     "text": [
      "dict_keys(['fit_time', 'score_time', 'test_acc', 'train_acc', 'test_precison', 'train_precison', 'test_recall', 'train_recall', 'test_F1-scores', 'train_F1-scores', 'test_false_positive_rate', 'train_false_positive_rate', 'test_AUC', 'train_AUC'])\n",
      "accuracy: 0.7825353535353535\n",
      "precison: 0.7849785542435689\n",
      "recall: 0.7846994899730647\n",
      "F1-scores: 0.7800730687079505\n",
      "test_false_positive_rate: 0.20890756143593667\n",
      "AUC: 0.8866861211341696\n"
     ]
    }
   ],
   "source": [
    "#交叉验证 SVM\n",
    "from sklearn.metrics import fbeta_score, make_scorer\n",
    "from sklearn.model_selection import cross_validate #评价多个指标\n",
    "from sklearn.pipeline import Pipeline#标准化集成\n",
    "scoring = {'acc': 'accuracy',\n",
    "           'precison': 'precision_macro',\n",
    "           'recall': 'recall_macro',\n",
    "           'F1-scores': 'f1_macro',\n",
    "           'false_positive_rate': make_scorer(false_positive_rate),\n",
    "           'AUC': 'roc_auc'}\n",
    "\n",
    "pipeline = Pipeline([('transformer', sc), ('estimator', model_LR)])#标准化\n",
    "\n",
    "scores = cross_validate(pipeline, X, y, scoring=scoring,\n",
    "                         cv=rkf, return_train_score=True)\n",
    "\n",
    "print(scores.keys())\n",
    "print(\"accuracy:\",scores['test_acc'].mean())  \n",
    "print(\"precison:\",scores['test_precison'].mean())\n",
    "print(\"recall:\",scores['test_recall'].mean())\n",
    "print(\"F1-scores:\",scores['test_F1-scores'].mean())\n",
    "print(\"test_false_positive_rate:\",scores['test_false_positive_rate'].mean()) \n",
    "print(\"AUC:\",scores['test_AUC'].mean())"
   ]
  },
  {
   "cell_type": "code",
   "execution_count": 33,
   "id": "652d6fc9",
   "metadata": {},
   "outputs": [],
   "source": [
    "#逻辑回归\n",
    "from sklearn.linear_model import LogisticRegression\n",
    "model_LR = LogisticRegression()"
   ]
  },
  {
   "cell_type": "code",
   "execution_count": 34,
   "id": "f5b76026",
   "metadata": {},
   "outputs": [
    {
     "name": "stdout",
     "output_type": "stream",
     "text": [
      "dict_keys(['fit_time', 'score_time', 'test_acc', 'train_acc', 'test_precison', 'train_precison', 'test_recall', 'train_recall', 'test_F1-scores', 'train_F1-scores'])\n",
      "accuracy: 0.7986111111111112\n",
      "precison: 0.7967800017513165\n",
      "recall: 0.7985764501295107\n",
      "F1-scores: 0.7938001369657239\n"
     ]
    }
   ],
   "source": [
    "#交叉验证 LR\n",
    "from sklearn.model_selection import cross_validate #评价多个指标\n",
    "from sklearn.pipeline import Pipeline#标准化集成\n",
    "scoring = {'acc': 'accuracy',\n",
    "           'precison': 'precision_macro',\n",
    "           'recall': 'recall_macro',\n",
    "           'F1-scores': 'f1_macro'}\n",
    "\n",
    "pipeline = Pipeline([('transformer', sc), ('estimator', model_LR)])#标准化\n",
    "\n",
    "scores = cross_validate(pipeline, X, y, scoring=scoring,\n",
    "                         cv=rkf, return_train_score=True)\n",
    "\n",
    "print(scores.keys())\n",
    "print(\"accuracy:\",scores['test_acc'].mean())  \n",
    "print(\"precison:\",scores['test_precison'].mean())\n",
    "print(\"recall:\",scores['test_recall'].mean())\n",
    "print(\"F1-scores:\",scores['test_F1-scores'].mean())"
   ]
  },
  {
   "cell_type": "code",
   "execution_count": 36,
   "id": "e6ec676e",
   "metadata": {},
   "outputs": [],
   "source": [
    "#catboost\n",
    "from catboost import CatBoostClassifier#Catboost集成学习分类器\n",
    "\n",
    "model_CB = CatBoostClassifier(iterations=1000,learning_rate=0.1,max_depth=7,verbose=100,\n",
    "                                      early_stopping_rounds=500,task_type='GPU',eval_metric='AUC',\n",
    "                                      )"
   ]
  },
  {
   "cell_type": "code",
   "execution_count": 37,
   "id": "129fa36e",
   "metadata": {},
   "outputs": [
    {
     "name": "stderr",
     "output_type": "stream",
     "text": [
      "Default metric period is 5 because AUC is/are not implemented for GPU\n",
      "AUC is not implemented on GPU. Will use CPU for metric computation, this could significantly affect learning time\n"
     ]
    },
    {
     "name": "stdout",
     "output_type": "stream",
     "text": [
      "0:\ttotal: 31.9ms\tremaining: 31.9s\n",
      "100:\ttotal: 888ms\tremaining: 7.91s\n",
      "200:\ttotal: 1.7s\tremaining: 6.75s\n",
      "300:\ttotal: 2.5s\tremaining: 5.81s\n",
      "400:\ttotal: 3.31s\tremaining: 4.94s\n",
      "500:\ttotal: 4.1s\tremaining: 4.08s\n",
      "600:\ttotal: 4.9s\tremaining: 3.25s\n",
      "700:\ttotal: 5.7s\tremaining: 2.43s\n",
      "800:\ttotal: 6.51s\tremaining: 1.62s\n",
      "900:\ttotal: 7.31s\tremaining: 803ms\n",
      "999:\ttotal: 8.11s\tremaining: 0us\n"
     ]
    },
    {
     "name": "stderr",
     "output_type": "stream",
     "text": [
      "Default metric period is 5 because AUC is/are not implemented for GPU\n",
      "AUC is not implemented on GPU. Will use CPU for metric computation, this could significantly affect learning time\n"
     ]
    },
    {
     "name": "stdout",
     "output_type": "stream",
     "text": [
      "0:\ttotal: 9.94ms\tremaining: 9.93s\n",
      "100:\ttotal: 853ms\tremaining: 7.59s\n",
      "200:\ttotal: 1.69s\tremaining: 6.71s\n",
      "300:\ttotal: 2.52s\tremaining: 5.86s\n",
      "400:\ttotal: 3.35s\tremaining: 5.01s\n",
      "500:\ttotal: 4.21s\tremaining: 4.19s\n",
      "600:\ttotal: 5.04s\tremaining: 3.35s\n",
      "700:\ttotal: 5.88s\tremaining: 2.51s\n",
      "800:\ttotal: 6.71s\tremaining: 1.67s\n",
      "900:\ttotal: 7.55s\tremaining: 829ms\n",
      "999:\ttotal: 8.41s\tremaining: 0us\n"
     ]
    },
    {
     "name": "stderr",
     "output_type": "stream",
     "text": [
      "Default metric period is 5 because AUC is/are not implemented for GPU\n",
      "AUC is not implemented on GPU. Will use CPU for metric computation, this could significantly affect learning time\n"
     ]
    },
    {
     "name": "stdout",
     "output_type": "stream",
     "text": [
      "0:\ttotal: 10.3ms\tremaining: 10.2s\n",
      "100:\ttotal: 871ms\tremaining: 7.75s\n",
      "200:\ttotal: 1.73s\tremaining: 6.89s\n",
      "300:\ttotal: 2.6s\tremaining: 6.04s\n",
      "400:\ttotal: 3.45s\tremaining: 5.16s\n",
      "500:\ttotal: 4.28s\tremaining: 4.26s\n",
      "600:\ttotal: 5.1s\tremaining: 3.38s\n",
      "700:\ttotal: 5.93s\tremaining: 2.53s\n",
      "800:\ttotal: 6.76s\tremaining: 1.68s\n",
      "900:\ttotal: 7.59s\tremaining: 834ms\n",
      "999:\ttotal: 8.41s\tremaining: 0us\n"
     ]
    },
    {
     "name": "stderr",
     "output_type": "stream",
     "text": [
      "Default metric period is 5 because AUC is/are not implemented for GPU\n",
      "AUC is not implemented on GPU. Will use CPU for metric computation, this could significantly affect learning time\n"
     ]
    },
    {
     "name": "stdout",
     "output_type": "stream",
     "text": [
      "0:\ttotal: 9.69ms\tremaining: 9.68s\n",
      "100:\ttotal: 866ms\tremaining: 7.71s\n",
      "200:\ttotal: 1.7s\tremaining: 6.77s\n",
      "300:\ttotal: 2.58s\tremaining: 6s\n",
      "400:\ttotal: 3.44s\tremaining: 5.13s\n",
      "500:\ttotal: 4.28s\tremaining: 4.26s\n",
      "600:\ttotal: 5.12s\tremaining: 3.4s\n",
      "700:\ttotal: 5.96s\tremaining: 2.54s\n",
      "800:\ttotal: 6.8s\tremaining: 1.69s\n",
      "900:\ttotal: 7.65s\tremaining: 841ms\n",
      "999:\ttotal: 8.48s\tremaining: 0us\n"
     ]
    },
    {
     "name": "stderr",
     "output_type": "stream",
     "text": [
      "Default metric period is 5 because AUC is/are not implemented for GPU\n",
      "AUC is not implemented on GPU. Will use CPU for metric computation, this could significantly affect learning time\n"
     ]
    },
    {
     "name": "stdout",
     "output_type": "stream",
     "text": [
      "0:\ttotal: 9.77ms\tremaining: 9.76s\n",
      "100:\ttotal: 856ms\tremaining: 7.62s\n",
      "200:\ttotal: 1.77s\tremaining: 7.05s\n",
      "300:\ttotal: 2.68s\tremaining: 6.22s\n",
      "400:\ttotal: 3.57s\tremaining: 5.34s\n",
      "500:\ttotal: 4.39s\tremaining: 4.37s\n",
      "600:\ttotal: 5.22s\tremaining: 3.47s\n",
      "700:\ttotal: 6.07s\tremaining: 2.59s\n",
      "800:\ttotal: 6.91s\tremaining: 1.72s\n",
      "900:\ttotal: 7.7s\tremaining: 846ms\n",
      "999:\ttotal: 8.49s\tremaining: 0us\n"
     ]
    },
    {
     "name": "stderr",
     "output_type": "stream",
     "text": [
      "Default metric period is 5 because AUC is/are not implemented for GPU\n",
      "AUC is not implemented on GPU. Will use CPU for metric computation, this could significantly affect learning time\n"
     ]
    },
    {
     "name": "stdout",
     "output_type": "stream",
     "text": [
      "0:\ttotal: 10.9ms\tremaining: 10.9s\n",
      "100:\ttotal: 944ms\tremaining: 8.41s\n",
      "200:\ttotal: 1.84s\tremaining: 7.3s\n",
      "300:\ttotal: 2.69s\tremaining: 6.24s\n",
      "400:\ttotal: 3.53s\tremaining: 5.28s\n",
      "500:\ttotal: 4.4s\tremaining: 4.38s\n",
      "600:\ttotal: 5.26s\tremaining: 3.49s\n",
      "700:\ttotal: 6.17s\tremaining: 2.63s\n",
      "800:\ttotal: 7.03s\tremaining: 1.75s\n",
      "900:\ttotal: 7.91s\tremaining: 869ms\n",
      "999:\ttotal: 8.75s\tremaining: 0us\n"
     ]
    },
    {
     "name": "stderr",
     "output_type": "stream",
     "text": [
      "Default metric period is 5 because AUC is/are not implemented for GPU\n",
      "AUC is not implemented on GPU. Will use CPU for metric computation, this could significantly affect learning time\n"
     ]
    },
    {
     "name": "stdout",
     "output_type": "stream",
     "text": [
      "0:\ttotal: 9.53ms\tremaining: 9.52s\n",
      "100:\ttotal: 860ms\tremaining: 7.65s\n",
      "200:\ttotal: 1.7s\tremaining: 6.75s\n",
      "300:\ttotal: 2.52s\tremaining: 5.85s\n",
      "400:\ttotal: 3.35s\tremaining: 5s\n",
      "500:\ttotal: 4.18s\tremaining: 4.17s\n",
      "600:\ttotal: 5.01s\tremaining: 3.33s\n",
      "700:\ttotal: 5.92s\tremaining: 2.52s\n",
      "800:\ttotal: 6.82s\tremaining: 1.69s\n",
      "900:\ttotal: 7.69s\tremaining: 845ms\n",
      "999:\ttotal: 8.51s\tremaining: 0us\n"
     ]
    },
    {
     "name": "stderr",
     "output_type": "stream",
     "text": [
      "Default metric period is 5 because AUC is/are not implemented for GPU\n",
      "AUC is not implemented on GPU. Will use CPU for metric computation, this could significantly affect learning time\n"
     ]
    },
    {
     "name": "stdout",
     "output_type": "stream",
     "text": [
      "0:\ttotal: 8.86ms\tremaining: 8.85s\n",
      "100:\ttotal: 852ms\tremaining: 7.58s\n",
      "200:\ttotal: 1.73s\tremaining: 6.87s\n",
      "300:\ttotal: 2.61s\tremaining: 6.05s\n",
      "400:\ttotal: 3.48s\tremaining: 5.2s\n",
      "500:\ttotal: 4.39s\tremaining: 4.38s\n",
      "600:\ttotal: 5.22s\tremaining: 3.46s\n",
      "700:\ttotal: 6.05s\tremaining: 2.58s\n",
      "800:\ttotal: 6.94s\tremaining: 1.72s\n",
      "900:\ttotal: 7.76s\tremaining: 853ms\n",
      "999:\ttotal: 8.58s\tremaining: 0us\n"
     ]
    },
    {
     "name": "stderr",
     "output_type": "stream",
     "text": [
      "Default metric period is 5 because AUC is/are not implemented for GPU\n",
      "AUC is not implemented on GPU. Will use CPU for metric computation, this could significantly affect learning time\n"
     ]
    },
    {
     "name": "stdout",
     "output_type": "stream",
     "text": [
      "0:\ttotal: 10.5ms\tremaining: 10.5s\n",
      "100:\ttotal: 861ms\tremaining: 7.67s\n",
      "200:\ttotal: 1.69s\tremaining: 6.7s\n",
      "300:\ttotal: 2.52s\tremaining: 5.85s\n",
      "400:\ttotal: 3.35s\tremaining: 5.01s\n",
      "500:\ttotal: 4.2s\tremaining: 4.18s\n",
      "600:\ttotal: 5.07s\tremaining: 3.36s\n",
      "700:\ttotal: 5.91s\tremaining: 2.52s\n",
      "800:\ttotal: 6.74s\tremaining: 1.67s\n",
      "900:\ttotal: 7.57s\tremaining: 831ms\n",
      "999:\ttotal: 8.41s\tremaining: 0us\n"
     ]
    },
    {
     "name": "stderr",
     "output_type": "stream",
     "text": [
      "Default metric period is 5 because AUC is/are not implemented for GPU\n",
      "AUC is not implemented on GPU. Will use CPU for metric computation, this could significantly affect learning time\n"
     ]
    },
    {
     "name": "stdout",
     "output_type": "stream",
     "text": [
      "0:\ttotal: 10.7ms\tremaining: 10.7s\n",
      "100:\ttotal: 896ms\tremaining: 7.98s\n",
      "200:\ttotal: 1.78s\tremaining: 7.08s\n",
      "300:\ttotal: 2.71s\tremaining: 6.29s\n",
      "400:\ttotal: 3.62s\tremaining: 5.4s\n",
      "500:\ttotal: 4.49s\tremaining: 4.47s\n",
      "600:\ttotal: 5.33s\tremaining: 3.54s\n",
      "700:\ttotal: 6.18s\tremaining: 2.64s\n",
      "800:\ttotal: 7.02s\tremaining: 1.74s\n",
      "900:\ttotal: 7.86s\tremaining: 864ms\n",
      "999:\ttotal: 8.69s\tremaining: 0us\n"
     ]
    },
    {
     "name": "stderr",
     "output_type": "stream",
     "text": [
      "Default metric period is 5 because AUC is/are not implemented for GPU\n",
      "AUC is not implemented on GPU. Will use CPU for metric computation, this could significantly affect learning time\n"
     ]
    },
    {
     "name": "stdout",
     "output_type": "stream",
     "text": [
      "0:\ttotal: 9.73ms\tremaining: 9.72s\n",
      "100:\ttotal: 854ms\tremaining: 7.6s\n",
      "200:\ttotal: 1.69s\tremaining: 6.7s\n",
      "300:\ttotal: 2.52s\tremaining: 5.84s\n",
      "400:\ttotal: 3.35s\tremaining: 5s\n",
      "500:\ttotal: 4.17s\tremaining: 4.15s\n",
      "600:\ttotal: 5s\tremaining: 3.32s\n",
      "700:\ttotal: 5.82s\tremaining: 2.48s\n",
      "800:\ttotal: 6.64s\tremaining: 1.65s\n",
      "900:\ttotal: 7.46s\tremaining: 820ms\n",
      "999:\ttotal: 8.28s\tremaining: 0us\n"
     ]
    },
    {
     "name": "stderr",
     "output_type": "stream",
     "text": [
      "Default metric period is 5 because AUC is/are not implemented for GPU\n",
      "AUC is not implemented on GPU. Will use CPU for metric computation, this could significantly affect learning time\n"
     ]
    },
    {
     "name": "stdout",
     "output_type": "stream",
     "text": [
      "0:\ttotal: 10.1ms\tremaining: 10.1s\n",
      "100:\ttotal: 838ms\tremaining: 7.46s\n",
      "200:\ttotal: 1.66s\tremaining: 6.59s\n",
      "300:\ttotal: 2.48s\tremaining: 5.75s\n",
      "400:\ttotal: 3.3s\tremaining: 4.93s\n",
      "500:\ttotal: 4.12s\tremaining: 4.11s\n",
      "600:\ttotal: 5.01s\tremaining: 3.32s\n",
      "700:\ttotal: 5.84s\tremaining: 2.49s\n",
      "800:\ttotal: 6.66s\tremaining: 1.66s\n",
      "900:\ttotal: 7.47s\tremaining: 821ms\n",
      "999:\ttotal: 8.28s\tremaining: 0us\n"
     ]
    },
    {
     "name": "stderr",
     "output_type": "stream",
     "text": [
      "Default metric period is 5 because AUC is/are not implemented for GPU\n",
      "AUC is not implemented on GPU. Will use CPU for metric computation, this could significantly affect learning time\n"
     ]
    },
    {
     "name": "stdout",
     "output_type": "stream",
     "text": [
      "0:\ttotal: 9.04ms\tremaining: 9.03s\n",
      "100:\ttotal: 868ms\tremaining: 7.73s\n",
      "200:\ttotal: 1.71s\tremaining: 6.81s\n",
      "300:\ttotal: 2.55s\tremaining: 5.93s\n",
      "400:\ttotal: 3.41s\tremaining: 5.09s\n",
      "500:\ttotal: 4.26s\tremaining: 4.24s\n",
      "600:\ttotal: 5.1s\tremaining: 3.38s\n",
      "700:\ttotal: 5.95s\tremaining: 2.54s\n",
      "800:\ttotal: 6.78s\tremaining: 1.68s\n",
      "900:\ttotal: 7.64s\tremaining: 839ms\n",
      "999:\ttotal: 8.5s\tremaining: 0us\n"
     ]
    },
    {
     "name": "stderr",
     "output_type": "stream",
     "text": [
      "Default metric period is 5 because AUC is/are not implemented for GPU\n",
      "AUC is not implemented on GPU. Will use CPU for metric computation, this could significantly affect learning time\n"
     ]
    },
    {
     "name": "stdout",
     "output_type": "stream",
     "text": [
      "0:\ttotal: 9.43ms\tremaining: 9.42s\n",
      "100:\ttotal: 853ms\tremaining: 7.59s\n",
      "200:\ttotal: 1.7s\tremaining: 6.74s\n",
      "300:\ttotal: 2.56s\tremaining: 5.94s\n",
      "400:\ttotal: 3.43s\tremaining: 5.12s\n",
      "500:\ttotal: 4.32s\tremaining: 4.3s\n",
      "600:\ttotal: 5.2s\tremaining: 3.45s\n",
      "700:\ttotal: 6.05s\tremaining: 2.58s\n",
      "800:\ttotal: 6.97s\tremaining: 1.73s\n",
      "900:\ttotal: 7.83s\tremaining: 861ms\n",
      "999:\ttotal: 8.67s\tremaining: 0us\n"
     ]
    },
    {
     "name": "stderr",
     "output_type": "stream",
     "text": [
      "Default metric period is 5 because AUC is/are not implemented for GPU\n",
      "AUC is not implemented on GPU. Will use CPU for metric computation, this could significantly affect learning time\n"
     ]
    },
    {
     "name": "stdout",
     "output_type": "stream",
     "text": [
      "0:\ttotal: 9.42ms\tremaining: 9.41s\n",
      "100:\ttotal: 858ms\tremaining: 7.64s\n",
      "200:\ttotal: 1.7s\tremaining: 6.77s\n",
      "300:\ttotal: 2.64s\tremaining: 6.12s\n",
      "400:\ttotal: 3.57s\tremaining: 5.33s\n",
      "500:\ttotal: 4.42s\tremaining: 4.4s\n",
      "600:\ttotal: 5.26s\tremaining: 3.49s\n",
      "700:\ttotal: 6.12s\tremaining: 2.61s\n",
      "800:\ttotal: 6.96s\tremaining: 1.73s\n",
      "900:\ttotal: 7.85s\tremaining: 862ms\n",
      "999:\ttotal: 8.72s\tremaining: 0us\n"
     ]
    },
    {
     "name": "stderr",
     "output_type": "stream",
     "text": [
      "Default metric period is 5 because AUC is/are not implemented for GPU\n",
      "AUC is not implemented on GPU. Will use CPU for metric computation, this could significantly affect learning time\n"
     ]
    },
    {
     "name": "stdout",
     "output_type": "stream",
     "text": [
      "0:\ttotal: 11.5ms\tremaining: 11.5s\n",
      "100:\ttotal: 907ms\tremaining: 8.07s\n",
      "200:\ttotal: 1.73s\tremaining: 6.88s\n",
      "300:\ttotal: 2.55s\tremaining: 5.92s\n",
      "400:\ttotal: 3.37s\tremaining: 5.03s\n",
      "500:\ttotal: 4.19s\tremaining: 4.17s\n",
      "600:\ttotal: 5.02s\tremaining: 3.33s\n",
      "700:\ttotal: 5.83s\tremaining: 2.49s\n",
      "800:\ttotal: 6.7s\tremaining: 1.67s\n",
      "900:\ttotal: 7.59s\tremaining: 834ms\n",
      "999:\ttotal: 8.45s\tremaining: 0us\n"
     ]
    },
    {
     "name": "stderr",
     "output_type": "stream",
     "text": [
      "Default metric period is 5 because AUC is/are not implemented for GPU\n",
      "AUC is not implemented on GPU. Will use CPU for metric computation, this could significantly affect learning time\n"
     ]
    },
    {
     "name": "stdout",
     "output_type": "stream",
     "text": [
      "0:\ttotal: 9.33ms\tremaining: 9.32s\n",
      "100:\ttotal: 888ms\tremaining: 7.9s\n",
      "200:\ttotal: 1.72s\tremaining: 6.86s\n",
      "300:\ttotal: 2.57s\tremaining: 5.96s\n",
      "400:\ttotal: 3.38s\tremaining: 5.04s\n",
      "500:\ttotal: 4.22s\tremaining: 4.2s\n",
      "600:\ttotal: 5.07s\tremaining: 3.36s\n",
      "700:\ttotal: 5.93s\tremaining: 2.53s\n",
      "800:\ttotal: 6.73s\tremaining: 1.67s\n",
      "900:\ttotal: 7.52s\tremaining: 827ms\n",
      "999:\ttotal: 8.31s\tremaining: 0us\n"
     ]
    },
    {
     "name": "stderr",
     "output_type": "stream",
     "text": [
      "Default metric period is 5 because AUC is/are not implemented for GPU\n",
      "AUC is not implemented on GPU. Will use CPU for metric computation, this could significantly affect learning time\n"
     ]
    },
    {
     "name": "stdout",
     "output_type": "stream",
     "text": [
      "0:\ttotal: 9.84ms\tremaining: 9.83s\n",
      "100:\ttotal: 872ms\tremaining: 7.76s\n",
      "200:\ttotal: 1.72s\tremaining: 6.86s\n",
      "300:\ttotal: 2.57s\tremaining: 5.98s\n",
      "400:\ttotal: 3.41s\tremaining: 5.1s\n",
      "500:\ttotal: 4.26s\tremaining: 4.25s\n",
      "600:\ttotal: 5.1s\tremaining: 3.38s\n",
      "700:\ttotal: 5.94s\tremaining: 2.53s\n",
      "800:\ttotal: 6.77s\tremaining: 1.68s\n",
      "900:\ttotal: 7.6s\tremaining: 835ms\n",
      "999:\ttotal: 8.43s\tremaining: 0us\n"
     ]
    },
    {
     "name": "stderr",
     "output_type": "stream",
     "text": [
      "Default metric period is 5 because AUC is/are not implemented for GPU\n",
      "AUC is not implemented on GPU. Will use CPU for metric computation, this could significantly affect learning time\n"
     ]
    },
    {
     "name": "stdout",
     "output_type": "stream",
     "text": [
      "0:\ttotal: 9.94ms\tremaining: 9.93s\n",
      "100:\ttotal: 849ms\tremaining: 7.55s\n",
      "200:\ttotal: 1.68s\tremaining: 6.69s\n",
      "300:\ttotal: 2.55s\tremaining: 5.93s\n",
      "400:\ttotal: 3.38s\tremaining: 5.05s\n",
      "500:\ttotal: 4.21s\tremaining: 4.19s\n",
      "600:\ttotal: 5.03s\tremaining: 3.34s\n",
      "700:\ttotal: 5.86s\tremaining: 2.5s\n",
      "800:\ttotal: 6.69s\tremaining: 1.66s\n",
      "900:\ttotal: 7.51s\tremaining: 826ms\n",
      "999:\ttotal: 8.33s\tremaining: 0us\n"
     ]
    },
    {
     "name": "stderr",
     "output_type": "stream",
     "text": [
      "Default metric period is 5 because AUC is/are not implemented for GPU\n",
      "AUC is not implemented on GPU. Will use CPU for metric computation, this could significantly affect learning time\n"
     ]
    },
    {
     "name": "stdout",
     "output_type": "stream",
     "text": [
      "0:\ttotal: 9.34ms\tremaining: 9.33s\n",
      "100:\ttotal: 841ms\tremaining: 7.48s\n",
      "200:\ttotal: 1.7s\tremaining: 6.75s\n",
      "300:\ttotal: 2.58s\tremaining: 5.99s\n",
      "400:\ttotal: 3.48s\tremaining: 5.21s\n",
      "500:\ttotal: 4.42s\tremaining: 4.4s\n",
      "600:\ttotal: 5.42s\tremaining: 3.6s\n",
      "700:\ttotal: 6.36s\tremaining: 2.71s\n",
      "800:\ttotal: 7.25s\tremaining: 1.8s\n",
      "900:\ttotal: 8.13s\tremaining: 893ms\n",
      "999:\ttotal: 9s\tremaining: 0us\n"
     ]
    },
    {
     "name": "stderr",
     "output_type": "stream",
     "text": [
      "Default metric period is 5 because AUC is/are not implemented for GPU\n",
      "AUC is not implemented on GPU. Will use CPU for metric computation, this could significantly affect learning time\n"
     ]
    },
    {
     "name": "stdout",
     "output_type": "stream",
     "text": [
      "0:\ttotal: 9.94ms\tremaining: 9.93s\n",
      "100:\ttotal: 908ms\tremaining: 8.08s\n",
      "200:\ttotal: 1.8s\tremaining: 7.16s\n",
      "300:\ttotal: 2.73s\tremaining: 6.33s\n",
      "400:\ttotal: 3.63s\tremaining: 5.42s\n",
      "500:\ttotal: 4.57s\tremaining: 4.55s\n",
      "600:\ttotal: 5.56s\tremaining: 3.69s\n",
      "700:\ttotal: 6.46s\tremaining: 2.75s\n",
      "800:\ttotal: 7.35s\tremaining: 1.83s\n",
      "900:\ttotal: 8.25s\tremaining: 907ms\n",
      "999:\ttotal: 9.15s\tremaining: 0us\n"
     ]
    },
    {
     "name": "stderr",
     "output_type": "stream",
     "text": [
      "Default metric period is 5 because AUC is/are not implemented for GPU\n",
      "AUC is not implemented on GPU. Will use CPU for metric computation, this could significantly affect learning time\n"
     ]
    },
    {
     "name": "stdout",
     "output_type": "stream",
     "text": [
      "0:\ttotal: 10.1ms\tremaining: 10.1s\n",
      "100:\ttotal: 910ms\tremaining: 8.1s\n",
      "200:\ttotal: 1.8s\tremaining: 7.15s\n",
      "300:\ttotal: 2.68s\tremaining: 6.23s\n",
      "400:\ttotal: 3.53s\tremaining: 5.28s\n",
      "500:\ttotal: 4.39s\tremaining: 4.37s\n",
      "600:\ttotal: 5.22s\tremaining: 3.47s\n",
      "700:\ttotal: 6.06s\tremaining: 2.59s\n",
      "800:\ttotal: 6.91s\tremaining: 1.72s\n",
      "900:\ttotal: 7.8s\tremaining: 858ms\n",
      "999:\ttotal: 8.68s\tremaining: 0us\n"
     ]
    },
    {
     "name": "stderr",
     "output_type": "stream",
     "text": [
      "Default metric period is 5 because AUC is/are not implemented for GPU\n",
      "AUC is not implemented on GPU. Will use CPU for metric computation, this could significantly affect learning time\n"
     ]
    },
    {
     "name": "stdout",
     "output_type": "stream",
     "text": [
      "0:\ttotal: 11.9ms\tremaining: 11.9s\n",
      "100:\ttotal: 900ms\tremaining: 8.01s\n",
      "200:\ttotal: 1.74s\tremaining: 6.92s\n",
      "300:\ttotal: 2.57s\tremaining: 5.97s\n",
      "400:\ttotal: 3.4s\tremaining: 5.08s\n",
      "500:\ttotal: 4.23s\tremaining: 4.21s\n",
      "600:\ttotal: 5.06s\tremaining: 3.36s\n",
      "700:\ttotal: 5.89s\tremaining: 2.51s\n",
      "800:\ttotal: 6.72s\tremaining: 1.67s\n",
      "900:\ttotal: 7.55s\tremaining: 829ms\n",
      "999:\ttotal: 8.37s\tremaining: 0us\n"
     ]
    },
    {
     "name": "stderr",
     "output_type": "stream",
     "text": [
      "Default metric period is 5 because AUC is/are not implemented for GPU\n",
      "AUC is not implemented on GPU. Will use CPU for metric computation, this could significantly affect learning time\n"
     ]
    },
    {
     "name": "stdout",
     "output_type": "stream",
     "text": [
      "0:\ttotal: 9.53ms\tremaining: 9.52s\n",
      "100:\ttotal: 860ms\tremaining: 7.65s\n",
      "200:\ttotal: 1.72s\tremaining: 6.84s\n",
      "300:\ttotal: 2.64s\tremaining: 6.13s\n",
      "400:\ttotal: 3.48s\tremaining: 5.2s\n",
      "500:\ttotal: 4.35s\tremaining: 4.33s\n",
      "600:\ttotal: 5.21s\tremaining: 3.46s\n",
      "700:\ttotal: 6.08s\tremaining: 2.59s\n",
      "800:\ttotal: 6.93s\tremaining: 1.72s\n",
      "900:\ttotal: 7.8s\tremaining: 857ms\n",
      "999:\ttotal: 8.63s\tremaining: 0us\n"
     ]
    },
    {
     "name": "stderr",
     "output_type": "stream",
     "text": [
      "Default metric period is 5 because AUC is/are not implemented for GPU\n",
      "AUC is not implemented on GPU. Will use CPU for metric computation, this could significantly affect learning time\n"
     ]
    },
    {
     "name": "stdout",
     "output_type": "stream",
     "text": [
      "0:\ttotal: 10ms\tremaining: 10s\n",
      "100:\ttotal: 875ms\tremaining: 7.79s\n",
      "200:\ttotal: 1.76s\tremaining: 7.01s\n",
      "300:\ttotal: 2.61s\tremaining: 6.06s\n",
      "400:\ttotal: 3.45s\tremaining: 5.16s\n",
      "500:\ttotal: 4.29s\tremaining: 4.28s\n",
      "600:\ttotal: 5.13s\tremaining: 3.41s\n",
      "700:\ttotal: 5.97s\tremaining: 2.55s\n",
      "800:\ttotal: 6.81s\tremaining: 1.69s\n",
      "900:\ttotal: 7.66s\tremaining: 841ms\n",
      "999:\ttotal: 8.49s\tremaining: 0us\n"
     ]
    },
    {
     "name": "stderr",
     "output_type": "stream",
     "text": [
      "Default metric period is 5 because AUC is/are not implemented for GPU\n",
      "AUC is not implemented on GPU. Will use CPU for metric computation, this could significantly affect learning time\n"
     ]
    },
    {
     "name": "stdout",
     "output_type": "stream",
     "text": [
      "0:\ttotal: 9.52ms\tremaining: 9.52s\n",
      "100:\ttotal: 853ms\tremaining: 7.59s\n",
      "200:\ttotal: 1.69s\tremaining: 6.71s\n",
      "300:\ttotal: 2.52s\tremaining: 5.85s\n",
      "400:\ttotal: 3.34s\tremaining: 4.98s\n",
      "500:\ttotal: 4.15s\tremaining: 4.13s\n",
      "600:\ttotal: 4.95s\tremaining: 3.29s\n",
      "700:\ttotal: 5.75s\tremaining: 2.45s\n",
      "800:\ttotal: 6.54s\tremaining: 1.62s\n",
      "900:\ttotal: 7.33s\tremaining: 806ms\n",
      "999:\ttotal: 8.12s\tremaining: 0us\n"
     ]
    },
    {
     "name": "stderr",
     "output_type": "stream",
     "text": [
      "Default metric period is 5 because AUC is/are not implemented for GPU\n",
      "AUC is not implemented on GPU. Will use CPU for metric computation, this could significantly affect learning time\n"
     ]
    },
    {
     "name": "stdout",
     "output_type": "stream",
     "text": [
      "0:\ttotal: 9.99ms\tremaining: 9.98s\n",
      "100:\ttotal: 868ms\tremaining: 7.72s\n",
      "200:\ttotal: 1.71s\tremaining: 6.79s\n",
      "300:\ttotal: 2.55s\tremaining: 5.92s\n",
      "400:\ttotal: 3.39s\tremaining: 5.07s\n",
      "500:\ttotal: 4.23s\tremaining: 4.21s\n",
      "600:\ttotal: 5.06s\tremaining: 3.36s\n",
      "700:\ttotal: 5.89s\tremaining: 2.51s\n",
      "800:\ttotal: 6.72s\tremaining: 1.67s\n",
      "900:\ttotal: 7.56s\tremaining: 831ms\n",
      "999:\ttotal: 8.39s\tremaining: 0us\n"
     ]
    },
    {
     "name": "stderr",
     "output_type": "stream",
     "text": [
      "Default metric period is 5 because AUC is/are not implemented for GPU\n",
      "AUC is not implemented on GPU. Will use CPU for metric computation, this could significantly affect learning time\n"
     ]
    },
    {
     "name": "stdout",
     "output_type": "stream",
     "text": [
      "0:\ttotal: 10ms\tremaining: 10s\n",
      "100:\ttotal: 858ms\tremaining: 7.64s\n",
      "200:\ttotal: 1.69s\tremaining: 6.74s\n",
      "300:\ttotal: 2.53s\tremaining: 5.88s\n",
      "400:\ttotal: 3.36s\tremaining: 5.02s\n",
      "500:\ttotal: 4.19s\tremaining: 4.17s\n",
      "600:\ttotal: 5.02s\tremaining: 3.33s\n",
      "700:\ttotal: 5.86s\tremaining: 2.5s\n",
      "800:\ttotal: 6.68s\tremaining: 1.66s\n",
      "900:\ttotal: 7.5s\tremaining: 825ms\n",
      "999:\ttotal: 8.33s\tremaining: 0us\n"
     ]
    },
    {
     "name": "stderr",
     "output_type": "stream",
     "text": [
      "Default metric period is 5 because AUC is/are not implemented for GPU\n",
      "AUC is not implemented on GPU. Will use CPU for metric computation, this could significantly affect learning time\n"
     ]
    },
    {
     "name": "stdout",
     "output_type": "stream",
     "text": [
      "0:\ttotal: 10.2ms\tremaining: 10.2s\n",
      "100:\ttotal: 874ms\tremaining: 7.78s\n",
      "200:\ttotal: 1.73s\tremaining: 6.87s\n",
      "300:\ttotal: 2.57s\tremaining: 5.98s\n",
      "400:\ttotal: 3.42s\tremaining: 5.11s\n",
      "500:\ttotal: 4.27s\tremaining: 4.25s\n",
      "600:\ttotal: 5.12s\tremaining: 3.4s\n",
      "700:\ttotal: 5.97s\tremaining: 2.55s\n",
      "800:\ttotal: 6.81s\tremaining: 1.69s\n",
      "900:\ttotal: 7.66s\tremaining: 842ms\n",
      "999:\ttotal: 8.49s\tremaining: 0us\n"
     ]
    },
    {
     "name": "stderr",
     "output_type": "stream",
     "text": [
      "Default metric period is 5 because AUC is/are not implemented for GPU\n",
      "AUC is not implemented on GPU. Will use CPU for metric computation, this could significantly affect learning time\n"
     ]
    },
    {
     "name": "stdout",
     "output_type": "stream",
     "text": [
      "0:\ttotal: 9.39ms\tremaining: 9.38s\n",
      "100:\ttotal: 869ms\tremaining: 7.73s\n",
      "200:\ttotal: 1.76s\tremaining: 7s\n",
      "300:\ttotal: 2.63s\tremaining: 6.12s\n",
      "400:\ttotal: 3.54s\tremaining: 5.28s\n",
      "500:\ttotal: 4.41s\tremaining: 4.39s\n",
      "600:\ttotal: 5.28s\tremaining: 3.51s\n",
      "700:\ttotal: 6.13s\tremaining: 2.62s\n",
      "800:\ttotal: 6.98s\tremaining: 1.73s\n",
      "900:\ttotal: 7.82s\tremaining: 860ms\n",
      "999:\ttotal: 8.66s\tremaining: 0us\n"
     ]
    },
    {
     "name": "stderr",
     "output_type": "stream",
     "text": [
      "Default metric period is 5 because AUC is/are not implemented for GPU\n",
      "AUC is not implemented on GPU. Will use CPU for metric computation, this could significantly affect learning time\n"
     ]
    },
    {
     "name": "stdout",
     "output_type": "stream",
     "text": [
      "0:\ttotal: 10ms\tremaining: 10s\n",
      "100:\ttotal: 868ms\tremaining: 7.72s\n",
      "200:\ttotal: 1.73s\tremaining: 6.89s\n",
      "300:\ttotal: 2.6s\tremaining: 6.04s\n",
      "400:\ttotal: 3.49s\tremaining: 5.21s\n",
      "500:\ttotal: 4.34s\tremaining: 4.32s\n",
      "600:\ttotal: 5.18s\tremaining: 3.44s\n",
      "700:\ttotal: 6.03s\tremaining: 2.57s\n",
      "800:\ttotal: 6.88s\tremaining: 1.71s\n",
      "900:\ttotal: 7.73s\tremaining: 849ms\n",
      "999:\ttotal: 8.55s\tremaining: 0us\n"
     ]
    },
    {
     "name": "stderr",
     "output_type": "stream",
     "text": [
      "Default metric period is 5 because AUC is/are not implemented for GPU\n",
      "AUC is not implemented on GPU. Will use CPU for metric computation, this could significantly affect learning time\n"
     ]
    },
    {
     "name": "stdout",
     "output_type": "stream",
     "text": [
      "0:\ttotal: 9.6ms\tremaining: 9.59s\n",
      "100:\ttotal: 868ms\tremaining: 7.73s\n",
      "200:\ttotal: 1.73s\tremaining: 6.86s\n",
      "300:\ttotal: 2.59s\tremaining: 6.01s\n",
      "400:\ttotal: 3.44s\tremaining: 5.14s\n",
      "500:\ttotal: 4.3s\tremaining: 4.29s\n",
      "600:\ttotal: 5.17s\tremaining: 3.43s\n",
      "700:\ttotal: 6.03s\tremaining: 2.57s\n",
      "800:\ttotal: 6.88s\tremaining: 1.71s\n",
      "900:\ttotal: 7.72s\tremaining: 849ms\n",
      "999:\ttotal: 8.57s\tremaining: 0us\n"
     ]
    },
    {
     "name": "stderr",
     "output_type": "stream",
     "text": [
      "Default metric period is 5 because AUC is/are not implemented for GPU\n",
      "AUC is not implemented on GPU. Will use CPU for metric computation, this could significantly affect learning time\n"
     ]
    },
    {
     "name": "stdout",
     "output_type": "stream",
     "text": [
      "0:\ttotal: 9.77ms\tremaining: 9.76s\n",
      "100:\ttotal: 860ms\tremaining: 7.65s\n",
      "200:\ttotal: 1.7s\tremaining: 6.76s\n",
      "300:\ttotal: 2.55s\tremaining: 5.92s\n",
      "400:\ttotal: 3.37s\tremaining: 5.04s\n",
      "500:\ttotal: 4.21s\tremaining: 4.2s\n",
      "600:\ttotal: 5.06s\tremaining: 3.36s\n",
      "700:\ttotal: 5.89s\tremaining: 2.51s\n",
      "800:\ttotal: 6.72s\tremaining: 1.67s\n",
      "900:\ttotal: 7.55s\tremaining: 830ms\n",
      "999:\ttotal: 8.39s\tremaining: 0us\n"
     ]
    },
    {
     "name": "stderr",
     "output_type": "stream",
     "text": [
      "Default metric period is 5 because AUC is/are not implemented for GPU\n",
      "AUC is not implemented on GPU. Will use CPU for metric computation, this could significantly affect learning time\n"
     ]
    },
    {
     "name": "stdout",
     "output_type": "stream",
     "text": [
      "0:\ttotal: 10.4ms\tremaining: 10.4s\n",
      "100:\ttotal: 875ms\tremaining: 7.79s\n",
      "200:\ttotal: 1.73s\tremaining: 6.9s\n",
      "300:\ttotal: 2.59s\tremaining: 6.02s\n",
      "400:\ttotal: 3.44s\tremaining: 5.13s\n",
      "500:\ttotal: 4.29s\tremaining: 4.27s\n",
      "600:\ttotal: 5.15s\tremaining: 3.42s\n",
      "700:\ttotal: 6s\tremaining: 2.56s\n",
      "800:\ttotal: 6.85s\tremaining: 1.7s\n",
      "900:\ttotal: 7.69s\tremaining: 845ms\n",
      "999:\ttotal: 8.53s\tremaining: 0us\n"
     ]
    },
    {
     "name": "stderr",
     "output_type": "stream",
     "text": [
      "Default metric period is 5 because AUC is/are not implemented for GPU\n",
      "AUC is not implemented on GPU. Will use CPU for metric computation, this could significantly affect learning time\n"
     ]
    },
    {
     "name": "stdout",
     "output_type": "stream",
     "text": [
      "0:\ttotal: 9.3ms\tremaining: 9.3s\n",
      "100:\ttotal: 874ms\tremaining: 7.78s\n",
      "200:\ttotal: 1.73s\tremaining: 6.86s\n",
      "300:\ttotal: 2.57s\tremaining: 5.96s\n",
      "400:\ttotal: 3.41s\tremaining: 5.09s\n",
      "500:\ttotal: 4.25s\tremaining: 4.23s\n",
      "600:\ttotal: 5.13s\tremaining: 3.4s\n",
      "700:\ttotal: 5.98s\tremaining: 2.55s\n",
      "800:\ttotal: 6.83s\tremaining: 1.7s\n",
      "900:\ttotal: 7.67s\tremaining: 843ms\n",
      "999:\ttotal: 8.56s\tremaining: 0us\n"
     ]
    },
    {
     "name": "stderr",
     "output_type": "stream",
     "text": [
      "Default metric period is 5 because AUC is/are not implemented for GPU\n",
      "AUC is not implemented on GPU. Will use CPU for metric computation, this could significantly affect learning time\n"
     ]
    },
    {
     "name": "stdout",
     "output_type": "stream",
     "text": [
      "0:\ttotal: 10.1ms\tremaining: 10.1s\n",
      "100:\ttotal: 891ms\tremaining: 7.93s\n",
      "200:\ttotal: 1.75s\tremaining: 6.96s\n",
      "300:\ttotal: 2.61s\tremaining: 6.07s\n",
      "400:\ttotal: 3.47s\tremaining: 5.18s\n",
      "500:\ttotal: 4.36s\tremaining: 4.34s\n",
      "600:\ttotal: 5.23s\tremaining: 3.47s\n",
      "700:\ttotal: 6.08s\tremaining: 2.59s\n",
      "800:\ttotal: 6.93s\tremaining: 1.72s\n",
      "900:\ttotal: 7.79s\tremaining: 856ms\n",
      "999:\ttotal: 8.64s\tremaining: 0us\n"
     ]
    },
    {
     "name": "stderr",
     "output_type": "stream",
     "text": [
      "Default metric period is 5 because AUC is/are not implemented for GPU\n",
      "AUC is not implemented on GPU. Will use CPU for metric computation, this could significantly affect learning time\n"
     ]
    },
    {
     "name": "stdout",
     "output_type": "stream",
     "text": [
      "0:\ttotal: 10ms\tremaining: 10s\n",
      "100:\ttotal: 883ms\tremaining: 7.86s\n",
      "200:\ttotal: 1.74s\tremaining: 6.91s\n",
      "300:\ttotal: 2.58s\tremaining: 6s\n",
      "400:\ttotal: 3.42s\tremaining: 5.1s\n",
      "500:\ttotal: 4.27s\tremaining: 4.25s\n",
      "600:\ttotal: 5.19s\tremaining: 3.44s\n",
      "700:\ttotal: 6.05s\tremaining: 2.58s\n",
      "800:\ttotal: 6.91s\tremaining: 1.72s\n",
      "900:\ttotal: 7.73s\tremaining: 849ms\n",
      "999:\ttotal: 8.59s\tremaining: 0us\n"
     ]
    },
    {
     "name": "stderr",
     "output_type": "stream",
     "text": [
      "Default metric period is 5 because AUC is/are not implemented for GPU\n",
      "AUC is not implemented on GPU. Will use CPU for metric computation, this could significantly affect learning time\n"
     ]
    },
    {
     "name": "stdout",
     "output_type": "stream",
     "text": [
      "0:\ttotal: 11.2ms\tremaining: 11.2s\n",
      "100:\ttotal: 922ms\tremaining: 8.21s\n",
      "200:\ttotal: 1.81s\tremaining: 7.2s\n",
      "300:\ttotal: 2.65s\tremaining: 6.15s\n",
      "400:\ttotal: 3.5s\tremaining: 5.22s\n",
      "500:\ttotal: 4.35s\tremaining: 4.33s\n",
      "600:\ttotal: 5.22s\tremaining: 3.46s\n",
      "700:\ttotal: 6.07s\tremaining: 2.59s\n",
      "800:\ttotal: 6.91s\tremaining: 1.72s\n",
      "900:\ttotal: 7.75s\tremaining: 852ms\n",
      "999:\ttotal: 8.65s\tremaining: 0us\n"
     ]
    },
    {
     "name": "stderr",
     "output_type": "stream",
     "text": [
      "Default metric period is 5 because AUC is/are not implemented for GPU\n",
      "AUC is not implemented on GPU. Will use CPU for metric computation, this could significantly affect learning time\n"
     ]
    },
    {
     "name": "stdout",
     "output_type": "stream",
     "text": [
      "0:\ttotal: 9.26ms\tremaining: 9.25s\n",
      "100:\ttotal: 877ms\tremaining: 7.8s\n",
      "200:\ttotal: 1.74s\tremaining: 6.92s\n",
      "300:\ttotal: 2.6s\tremaining: 6.03s\n",
      "400:\ttotal: 3.46s\tremaining: 5.16s\n",
      "500:\ttotal: 4.31s\tremaining: 4.29s\n",
      "600:\ttotal: 5.19s\tremaining: 3.44s\n",
      "700:\ttotal: 6.04s\tremaining: 2.58s\n",
      "800:\ttotal: 6.9s\tremaining: 1.71s\n",
      "900:\ttotal: 7.76s\tremaining: 853ms\n",
      "999:\ttotal: 8.6s\tremaining: 0us\n"
     ]
    },
    {
     "name": "stderr",
     "output_type": "stream",
     "text": [
      "Default metric period is 5 because AUC is/are not implemented for GPU\n",
      "AUC is not implemented on GPU. Will use CPU for metric computation, this could significantly affect learning time\n"
     ]
    },
    {
     "name": "stdout",
     "output_type": "stream",
     "text": [
      "0:\ttotal: 9.77ms\tremaining: 9.76s\n",
      "100:\ttotal: 929ms\tremaining: 8.27s\n",
      "200:\ttotal: 1.79s\tremaining: 7.13s\n",
      "300:\ttotal: 2.65s\tremaining: 6.16s\n",
      "400:\ttotal: 3.51s\tremaining: 5.24s\n",
      "500:\ttotal: 4.37s\tremaining: 4.35s\n",
      "600:\ttotal: 5.21s\tremaining: 3.46s\n",
      "700:\ttotal: 6.05s\tremaining: 2.58s\n",
      "800:\ttotal: 6.95s\tremaining: 1.73s\n",
      "900:\ttotal: 7.86s\tremaining: 864ms\n",
      "999:\ttotal: 8.7s\tremaining: 0us\n"
     ]
    },
    {
     "name": "stderr",
     "output_type": "stream",
     "text": [
      "Default metric period is 5 because AUC is/are not implemented for GPU\n",
      "AUC is not implemented on GPU. Will use CPU for metric computation, this could significantly affect learning time\n"
     ]
    },
    {
     "name": "stdout",
     "output_type": "stream",
     "text": [
      "0:\ttotal: 10.4ms\tremaining: 10.4s\n",
      "100:\ttotal: 883ms\tremaining: 7.86s\n",
      "200:\ttotal: 1.75s\tremaining: 6.94s\n",
      "300:\ttotal: 2.6s\tremaining: 6.05s\n",
      "400:\ttotal: 3.5s\tremaining: 5.23s\n",
      "500:\ttotal: 4.36s\tremaining: 4.34s\n",
      "600:\ttotal: 5.23s\tremaining: 3.47s\n",
      "700:\ttotal: 6.14s\tremaining: 2.62s\n",
      "800:\ttotal: 7.16s\tremaining: 1.78s\n",
      "900:\ttotal: 8.07s\tremaining: 887ms\n",
      "999:\ttotal: 8.96s\tremaining: 0us\n"
     ]
    },
    {
     "name": "stderr",
     "output_type": "stream",
     "text": [
      "Default metric period is 5 because AUC is/are not implemented for GPU\n",
      "AUC is not implemented on GPU. Will use CPU for metric computation, this could significantly affect learning time\n"
     ]
    },
    {
     "name": "stdout",
     "output_type": "stream",
     "text": [
      "0:\ttotal: 9.27ms\tremaining: 9.26s\n",
      "100:\ttotal: 961ms\tremaining: 8.55s\n",
      "200:\ttotal: 1.9s\tremaining: 7.57s\n",
      "300:\ttotal: 2.81s\tremaining: 6.53s\n",
      "400:\ttotal: 3.68s\tremaining: 5.5s\n",
      "500:\ttotal: 4.58s\tremaining: 4.56s\n",
      "600:\ttotal: 5.45s\tremaining: 3.62s\n",
      "700:\ttotal: 6.31s\tremaining: 2.69s\n",
      "800:\ttotal: 7.18s\tremaining: 1.78s\n",
      "900:\ttotal: 8.04s\tremaining: 883ms\n",
      "999:\ttotal: 8.9s\tremaining: 0us\n"
     ]
    },
    {
     "name": "stderr",
     "output_type": "stream",
     "text": [
      "Default metric period is 5 because AUC is/are not implemented for GPU\n",
      "AUC is not implemented on GPU. Will use CPU for metric computation, this could significantly affect learning time\n"
     ]
    },
    {
     "name": "stdout",
     "output_type": "stream",
     "text": [
      "0:\ttotal: 9.35ms\tremaining: 9.34s\n",
      "100:\ttotal: 872ms\tremaining: 7.76s\n",
      "200:\ttotal: 1.75s\tremaining: 6.94s\n",
      "300:\ttotal: 2.63s\tremaining: 6.11s\n",
      "400:\ttotal: 3.5s\tremaining: 5.22s\n",
      "500:\ttotal: 4.34s\tremaining: 4.33s\n",
      "600:\ttotal: 5.23s\tremaining: 3.47s\n",
      "700:\ttotal: 6.08s\tremaining: 2.59s\n",
      "800:\ttotal: 6.94s\tremaining: 1.73s\n",
      "900:\ttotal: 7.89s\tremaining: 867ms\n",
      "999:\ttotal: 8.77s\tremaining: 0us\n"
     ]
    },
    {
     "name": "stderr",
     "output_type": "stream",
     "text": [
      "Default metric period is 5 because AUC is/are not implemented for GPU\n",
      "AUC is not implemented on GPU. Will use CPU for metric computation, this could significantly affect learning time\n"
     ]
    },
    {
     "name": "stdout",
     "output_type": "stream",
     "text": [
      "0:\ttotal: 10.8ms\tremaining: 10.8s\n",
      "100:\ttotal: 964ms\tremaining: 8.58s\n",
      "200:\ttotal: 1.94s\tremaining: 7.71s\n",
      "300:\ttotal: 2.84s\tremaining: 6.59s\n",
      "400:\ttotal: 3.71s\tremaining: 5.54s\n",
      "500:\ttotal: 4.59s\tremaining: 4.57s\n",
      "600:\ttotal: 5.46s\tremaining: 3.63s\n",
      "700:\ttotal: 6.34s\tremaining: 2.7s\n",
      "800:\ttotal: 7.2s\tremaining: 1.79s\n",
      "900:\ttotal: 8.06s\tremaining: 886ms\n",
      "999:\ttotal: 8.93s\tremaining: 0us\n"
     ]
    },
    {
     "name": "stderr",
     "output_type": "stream",
     "text": [
      "Default metric period is 5 because AUC is/are not implemented for GPU\n",
      "AUC is not implemented on GPU. Will use CPU for metric computation, this could significantly affect learning time\n"
     ]
    },
    {
     "name": "stdout",
     "output_type": "stream",
     "text": [
      "0:\ttotal: 9.5ms\tremaining: 9.49s\n",
      "100:\ttotal: 881ms\tremaining: 7.84s\n",
      "200:\ttotal: 1.76s\tremaining: 6.99s\n",
      "300:\ttotal: 2.63s\tremaining: 6.11s\n",
      "400:\ttotal: 3.5s\tremaining: 5.24s\n",
      "500:\ttotal: 4.37s\tremaining: 4.35s\n",
      "600:\ttotal: 5.24s\tremaining: 3.48s\n",
      "700:\ttotal: 6.12s\tremaining: 2.61s\n",
      "800:\ttotal: 6.98s\tremaining: 1.73s\n",
      "900:\ttotal: 7.84s\tremaining: 862ms\n",
      "999:\ttotal: 8.71s\tremaining: 0us\n"
     ]
    },
    {
     "name": "stderr",
     "output_type": "stream",
     "text": [
      "Default metric period is 5 because AUC is/are not implemented for GPU\n",
      "AUC is not implemented on GPU. Will use CPU for metric computation, this could significantly affect learning time\n"
     ]
    },
    {
     "name": "stdout",
     "output_type": "stream",
     "text": [
      "0:\ttotal: 9.92ms\tremaining: 9.91s\n",
      "100:\ttotal: 892ms\tremaining: 7.94s\n",
      "200:\ttotal: 1.76s\tremaining: 7.01s\n",
      "300:\ttotal: 2.63s\tremaining: 6.11s\n",
      "400:\ttotal: 3.5s\tremaining: 5.23s\n",
      "500:\ttotal: 4.37s\tremaining: 4.36s\n",
      "600:\ttotal: 5.27s\tremaining: 3.5s\n",
      "700:\ttotal: 6.16s\tremaining: 2.63s\n",
      "800:\ttotal: 7.04s\tremaining: 1.75s\n",
      "900:\ttotal: 7.93s\tremaining: 871ms\n",
      "999:\ttotal: 8.81s\tremaining: 0us\n"
     ]
    },
    {
     "name": "stderr",
     "output_type": "stream",
     "text": [
      "Default metric period is 5 because AUC is/are not implemented for GPU\n",
      "AUC is not implemented on GPU. Will use CPU for metric computation, this could significantly affect learning time\n"
     ]
    },
    {
     "name": "stdout",
     "output_type": "stream",
     "text": [
      "0:\ttotal: 10.2ms\tremaining: 10.2s\n",
      "100:\ttotal: 918ms\tremaining: 8.17s\n",
      "200:\ttotal: 1.84s\tremaining: 7.34s\n",
      "300:\ttotal: 2.79s\tremaining: 6.48s\n",
      "400:\ttotal: 3.7s\tremaining: 5.52s\n",
      "500:\ttotal: 4.6s\tremaining: 4.58s\n",
      "600:\ttotal: 5.56s\tremaining: 3.69s\n",
      "700:\ttotal: 6.46s\tremaining: 2.75s\n",
      "800:\ttotal: 7.42s\tremaining: 1.84s\n",
      "900:\ttotal: 8.33s\tremaining: 915ms\n",
      "999:\ttotal: 9.19s\tremaining: 0us\n"
     ]
    },
    {
     "name": "stderr",
     "output_type": "stream",
     "text": [
      "Default metric period is 5 because AUC is/are not implemented for GPU\n",
      "AUC is not implemented on GPU. Will use CPU for metric computation, this could significantly affect learning time\n"
     ]
    },
    {
     "name": "stdout",
     "output_type": "stream",
     "text": [
      "0:\ttotal: 9.59ms\tremaining: 9.58s\n",
      "100:\ttotal: 902ms\tremaining: 8.03s\n",
      "200:\ttotal: 1.78s\tremaining: 7.08s\n",
      "300:\ttotal: 2.66s\tremaining: 6.19s\n",
      "400:\ttotal: 3.54s\tremaining: 5.29s\n",
      "500:\ttotal: 4.42s\tremaining: 4.4s\n",
      "600:\ttotal: 5.28s\tremaining: 3.51s\n",
      "700:\ttotal: 6.16s\tremaining: 2.63s\n",
      "800:\ttotal: 7.05s\tremaining: 1.75s\n",
      "900:\ttotal: 7.92s\tremaining: 871ms\n",
      "999:\ttotal: 8.79s\tremaining: 0us\n"
     ]
    },
    {
     "name": "stderr",
     "output_type": "stream",
     "text": [
      "Default metric period is 5 because AUC is/are not implemented for GPU\n",
      "AUC is not implemented on GPU. Will use CPU for metric computation, this could significantly affect learning time\n"
     ]
    },
    {
     "name": "stdout",
     "output_type": "stream",
     "text": [
      "0:\ttotal: 10.1ms\tremaining: 10.1s\n",
      "100:\ttotal: 897ms\tremaining: 7.99s\n",
      "200:\ttotal: 1.77s\tremaining: 7.06s\n",
      "300:\ttotal: 2.64s\tremaining: 6.13s\n",
      "400:\ttotal: 3.52s\tremaining: 5.26s\n",
      "500:\ttotal: 4.39s\tremaining: 4.38s\n",
      "600:\ttotal: 5.27s\tremaining: 3.5s\n",
      "700:\ttotal: 6.15s\tremaining: 2.62s\n",
      "800:\ttotal: 7.02s\tremaining: 1.74s\n",
      "900:\ttotal: 7.9s\tremaining: 868ms\n",
      "999:\ttotal: 8.78s\tremaining: 0us\n"
     ]
    },
    {
     "name": "stderr",
     "output_type": "stream",
     "text": [
      "Default metric period is 5 because AUC is/are not implemented for GPU\n",
      "AUC is not implemented on GPU. Will use CPU for metric computation, this could significantly affect learning time\n"
     ]
    },
    {
     "name": "stdout",
     "output_type": "stream",
     "text": [
      "0:\ttotal: 10.2ms\tremaining: 10.2s\n",
      "100:\ttotal: 962ms\tremaining: 8.56s\n",
      "200:\ttotal: 1.87s\tremaining: 7.44s\n",
      "300:\ttotal: 2.76s\tremaining: 6.41s\n",
      "400:\ttotal: 3.67s\tremaining: 5.49s\n",
      "500:\ttotal: 4.57s\tremaining: 4.55s\n",
      "600:\ttotal: 5.49s\tremaining: 3.64s\n",
      "700:\ttotal: 6.42s\tremaining: 2.74s\n",
      "800:\ttotal: 7.32s\tremaining: 1.82s\n",
      "900:\ttotal: 8.22s\tremaining: 903ms\n",
      "999:\ttotal: 9.14s\tremaining: 0us\n",
      "dict_keys(['fit_time', 'score_time', 'test_acc', 'train_acc', 'test_precison', 'train_precison', 'test_recall', 'train_recall', 'test_F1-scores', 'train_F1-scores'])\n",
      "accuracy: 0.8008333333333334\n",
      "precison: 0.8025416480996875\n",
      "recall: 0.7984777641349947\n",
      "F1-scores: 0.79512117488468\n"
     ]
    }
   ],
   "source": [
    "#交叉验证 catboost\n",
    "from sklearn.model_selection import cross_validate #评价多个指标\n",
    "from sklearn.pipeline import Pipeline#标准化集成\n",
    "scoring = {'acc': 'accuracy',\n",
    "           'precison': 'precision_macro',\n",
    "           'recall': 'recall_macro',\n",
    "           'F1-scores': 'f1_macro'}\n",
    "\n",
    "pipeline = Pipeline([('transformer', sc), ('estimator', model_CB)])#标准化\n",
    "\n",
    "scores = cross_validate(pipeline, X, y, scoring=scoring,\n",
    "                         cv=rkf, return_train_score=True)\n",
    "\n",
    "print(scores.keys())\n",
    "print(\"accuracy:\",scores['test_acc'].mean())  \n",
    "print(\"precison:\",scores['test_precison'].mean())\n",
    "print(\"recall:\",scores['test_recall'].mean())\n",
    "print(\"F1-scores:\",scores['test_F1-scores'].mean())"
   ]
  },
  {
   "cell_type": "code",
   "execution_count": 149,
   "id": "64db91ca",
   "metadata": {},
   "outputs": [
    {
     "name": "stderr",
     "output_type": "stream",
     "text": [
      "Default metric period is 5 because AUC is/are not implemented for GPU\n",
      "AUC is not implemented on GPU. Will use CPU for metric computation, this could significantly affect learning time\n"
     ]
    },
    {
     "name": "stdout",
     "output_type": "stream",
     "text": [
      "0:\ttotal: 9.42ms\tremaining: 9.41s\n",
      "100:\ttotal: 931ms\tremaining: 8.29s\n",
      "200:\ttotal: 1.9s\tremaining: 7.55s\n",
      "300:\ttotal: 2.9s\tremaining: 6.73s\n",
      "400:\ttotal: 3.88s\tremaining: 5.8s\n",
      "500:\ttotal: 4.87s\tremaining: 4.85s\n",
      "600:\ttotal: 5.85s\tremaining: 3.89s\n",
      "700:\ttotal: 6.83s\tremaining: 2.91s\n",
      "800:\ttotal: 7.81s\tremaining: 1.94s\n",
      "900:\ttotal: 8.79s\tremaining: 966ms\n",
      "999:\ttotal: 9.76s\tremaining: 0us\n"
     ]
    },
    {
     "name": "stderr",
     "output_type": "stream",
     "text": [
      "Default metric period is 5 because AUC is/are not implemented for GPU\n",
      "AUC is not implemented on GPU. Will use CPU for metric computation, this could significantly affect learning time\n"
     ]
    },
    {
     "name": "stdout",
     "output_type": "stream",
     "text": [
      "0:\ttotal: 13.5ms\tremaining: 13.5s\n",
      "100:\ttotal: 1.01s\tremaining: 9s\n",
      "200:\ttotal: 1.99s\tremaining: 7.92s\n",
      "300:\ttotal: 2.98s\tremaining: 6.92s\n",
      "400:\ttotal: 3.96s\tremaining: 5.92s\n",
      "500:\ttotal: 4.94s\tremaining: 4.92s\n",
      "600:\ttotal: 5.91s\tremaining: 3.93s\n",
      "700:\ttotal: 6.89s\tremaining: 2.94s\n",
      "800:\ttotal: 7.85s\tremaining: 1.95s\n",
      "900:\ttotal: 8.84s\tremaining: 972ms\n",
      "999:\ttotal: 9.81s\tremaining: 0us\n"
     ]
    },
    {
     "name": "stderr",
     "output_type": "stream",
     "text": [
      "Default metric period is 5 because AUC is/are not implemented for GPU\n",
      "AUC is not implemented on GPU. Will use CPU for metric computation, this could significantly affect learning time\n"
     ]
    },
    {
     "name": "stdout",
     "output_type": "stream",
     "text": [
      "0:\ttotal: 10.6ms\tremaining: 10.6s\n",
      "100:\ttotal: 1.02s\tremaining: 9.1s\n",
      "200:\ttotal: 2.01s\tremaining: 7.99s\n",
      "300:\ttotal: 3.01s\tremaining: 6.99s\n",
      "400:\ttotal: 3.98s\tremaining: 5.94s\n",
      "500:\ttotal: 4.95s\tremaining: 4.93s\n",
      "600:\ttotal: 5.93s\tremaining: 3.93s\n",
      "700:\ttotal: 6.92s\tremaining: 2.95s\n",
      "800:\ttotal: 7.92s\tremaining: 1.97s\n",
      "900:\ttotal: 8.89s\tremaining: 977ms\n",
      "999:\ttotal: 9.99s\tremaining: 0us\n"
     ]
    },
    {
     "name": "stderr",
     "output_type": "stream",
     "text": [
      "Default metric period is 5 because AUC is/are not implemented for GPU\n",
      "AUC is not implemented on GPU. Will use CPU for metric computation, this could significantly affect learning time\n"
     ]
    },
    {
     "name": "stdout",
     "output_type": "stream",
     "text": [
      "0:\ttotal: 12.1ms\tremaining: 12.1s\n",
      "100:\ttotal: 1.04s\tremaining: 9.29s\n",
      "200:\ttotal: 2.08s\tremaining: 8.27s\n",
      "300:\ttotal: 3.13s\tremaining: 7.26s\n",
      "400:\ttotal: 4.2s\tremaining: 6.28s\n",
      "500:\ttotal: 5.19s\tremaining: 5.17s\n",
      "600:\ttotal: 6.22s\tremaining: 4.13s\n",
      "700:\ttotal: 7.26s\tremaining: 3.1s\n",
      "800:\ttotal: 8.25s\tremaining: 2.05s\n",
      "900:\ttotal: 9.24s\tremaining: 1.01s\n",
      "999:\ttotal: 10.2s\tremaining: 0us\n"
     ]
    },
    {
     "name": "stderr",
     "output_type": "stream",
     "text": [
      "Default metric period is 5 because AUC is/are not implemented for GPU\n",
      "AUC is not implemented on GPU. Will use CPU for metric computation, this could significantly affect learning time\n"
     ]
    },
    {
     "name": "stdout",
     "output_type": "stream",
     "text": [
      "0:\ttotal: 10.9ms\tremaining: 10.9s\n",
      "100:\ttotal: 987ms\tremaining: 8.78s\n",
      "200:\ttotal: 1.97s\tremaining: 7.82s\n",
      "300:\ttotal: 2.97s\tremaining: 6.91s\n",
      "400:\ttotal: 3.98s\tremaining: 5.94s\n",
      "500:\ttotal: 4.85s\tremaining: 4.83s\n",
      "600:\ttotal: 5.82s\tremaining: 3.86s\n",
      "700:\ttotal: 6.79s\tremaining: 2.9s\n",
      "800:\ttotal: 7.76s\tremaining: 1.93s\n",
      "900:\ttotal: 8.71s\tremaining: 957ms\n",
      "999:\ttotal: 9.71s\tremaining: 0us\n",
      "[0.79166667 0.81944444 0.875      0.73611111 0.83333333]\n"
     ]
    }
   ],
   "source": [
    "#K折交叉验证简单例子  catboost\n",
    "from sklearn.model_selection import KFold\n",
    "from sklearn.model_selection import RepeatedKFold\n",
    "from sklearn.model_selection import cross_val_score\n",
    "model = model_CB#建立一个模型\n",
    "kf=KFold(n_splits=5,shuffle=True)#建立k折\n",
    "rkf = RepeatedKFold(n_splits=5, n_repeats=10, random_state =100)#建立rkf\n",
    "print(cross_val_score(model_CB, X, y, scoring='accuracy', cv=kf))#将k折应用到模型，并返回结果。\n",
    "#cross_val_score是一个计算得分的函数"
   ]
  },
  {
   "cell_type": "code",
   "execution_count": 41,
   "id": "c6171dbf",
   "metadata": {},
   "outputs": [],
   "source": [
    "# # 分割数据\n",
    "from sklearn.model_selection import train_test_split  \n",
    "X_train, X_test, y_train, y_test = train_test_split(X,\n",
    "                                                    y,\n",
    "                                                    test_size=0.25,\n",
    "                                                    random_state=0)"
   ]
  },
  {
   "cell_type": "code",
   "execution_count": 42,
   "id": "dd6a0429",
   "metadata": {},
   "outputs": [],
   "source": [
    "# # 特征缩放，归一化\n",
    "from sklearn.preprocessing import StandardScaler\n",
    "\n",
    "sc = StandardScaler()\n",
    "X_train = sc.fit_transform(X_train)\n",
    "X_test = sc.transform(X_test)"
   ]
  },
  {
   "cell_type": "code",
   "execution_count": 17,
   "id": "49a96a0f",
   "metadata": {},
   "outputs": [
    {
     "name": "stdout",
     "output_type": "stream",
     "text": [
      "measure_result = \n",
      "               precision    recall  f1-score   support\n",
      "\n",
      "           0       0.83      0.80      0.81        30\n",
      "           1       0.83      0.88      0.86        34\n",
      "           2       0.76      0.73      0.75        26\n",
      "\n",
      "    accuracy                           0.81        90\n",
      "   macro avg       0.81      0.80      0.81        90\n",
      "weighted avg       0.81      0.81      0.81        90\n",
      "\n"
     ]
    }
   ],
   "source": [
    "# xgb\n",
    "from sklearn.metrics import classification_report\n",
    "import xgboost as xgb\n",
    "params = {\n",
    "    'objective': 'multi:softmax', 'num_class' : 3\n",
    "}\n",
    "\n",
    "\n",
    "dtrain = xgb.DMatrix(X_train, y_train)\n",
    "num_rounds = 500\n",
    "model_xgb = xgb.train(params, dtrain, num_rounds)\n",
    "dtest = xgb.DMatrix(X_test)\n",
    "test_pred = model_xgb.predict(dtest)\n",
    "\n",
    "\n",
    "measure_result = classification_report(y_test, test_pred)\n",
    "print('measure_result = \\n', measure_result)"
   ]
  },
  {
   "cell_type": "code",
   "execution_count": 18,
   "id": "774b5598",
   "metadata": {},
   "outputs": [
    {
     "name": "stdout",
     "output_type": "stream",
     "text": [
      "Confusion Matrix:\n",
      "[[19  6  5]\n",
      " [ 4 30  0]\n",
      " [ 0  7 19]]\n",
      "Classification Report:\n",
      "              precision    recall  f1-score   support\n",
      "\n",
      "           0       0.83      0.63      0.72        30\n",
      "           1       0.70      0.88      0.78        34\n",
      "           2       0.79      0.73      0.76        26\n",
      "\n",
      "    accuracy                           0.76        90\n",
      "   macro avg       0.77      0.75      0.75        90\n",
      "weighted avg       0.77      0.76      0.75        90\n",
      "\n",
      "Accuracy: 0.7555555555555555\n"
     ]
    },
    {
     "data": {
      "image/png": "[encoded data removed]",
      "text/plain": [
       "<Figure size 432x288 with 2 Axes>"
      ]
     },
     "metadata": {
      "needs_background": "light"
     },
     "output_type": "display_data"
    }
   ],
   "source": [
    "#Confusion matrix（RF）\n",
    "from sklearn.metrics import classification_report, confusion_matrix, accuracy_score\n",
    "result = confusion_matrix(y_test, y_pred)\n",
    "sns.heatmap(result,annot=True,fmt=\"d\")\n",
    "print(\"Confusion Matrix:\")\n",
    "print(result)\n",
    "\n",
    "#\n",
    "result1 = classification_report(y_test, y_pred)\n",
    "print(\"Classification Report:\",)\n",
    "print (result1)\n",
    "\n",
    "#ACC\n",
    "result2 = accuracy_score(y_test,y_pred)\n",
    "print(\"Accuracy:\",result2)"
   ]
  },
  {
   "cell_type": "code",
   "execution_count": 19,
   "id": "35e80a1a",
   "metadata": {},
   "outputs": [
    {
     "name": "stdout",
     "output_type": "stream",
     "text": [
      "Confusion Matrix:\n",
      "[[19  6  5]\n",
      " [ 4 30  0]\n",
      " [ 0  7 19]]\n",
      "Classification Report:\n",
      "              precision    recall  f1-score   support\n",
      "\n",
      "           0       0.83      0.80      0.81        30\n",
      "           1       0.83      0.88      0.86        34\n",
      "           2       0.76      0.73      0.75        26\n",
      "\n",
      "    accuracy                           0.81        90\n",
      "   macro avg       0.81      0.80      0.81        90\n",
      "weighted avg       0.81      0.81      0.81        90\n",
      "\n",
      "Accuracy: 0.8111111111111111\n"
     ]
    },
    {
     "data": {
      "image/png": "[encoded data removed]",
      "text/plain": [
       "<Figure size 432x288 with 2 Axes>"
      ]
     },
     "metadata": {
      "needs_background": "light"
     },
     "output_type": "display_data"
    }
   ],
   "source": [
    "#Confusion matrix（xgb）\n",
    "from sklearn.metrics import classification_report, confusion_matrix, accuracy_score\n",
    "result = confusion_matrix(y_test, y_pred)\n",
    "sns.heatmap(result,annot=True,fmt=\"d\")\n",
    "print(\"Confusion Matrix:\")\n",
    "print(result)\n",
    "\n",
    "#\n",
    "result1 = classification_report(y_test, test_pred)\n",
    "print(\"Classification Report:\",)\n",
    "print (result1)\n",
    "\n",
    "#ACC\n",
    "result2 = accuracy_score(y_test,test_pred)\n",
    "print(\"Accuracy:\",result2)"
   ]
  },
  {
   "cell_type": "code",
   "execution_count": 43,
   "id": "aa8108f3",
   "metadata": {},
   "outputs": [],
   "source": [
    "from catboost import CatBoostClassifier#Catboost集成学习分类器\n",
    "\n",
    "features = list(X.columns)\n",
    "model_cb = CatBoostClassifier(task_type='GPU', iterations=100, \n",
    "                              random_state = 2021,\n",
    "                              #loss_function='CrossEntropy',\n",
    "                              eval_metric=\"AUC\")"
   ]
  },
  {
   "cell_type": "code",
   "execution_count": 140,
   "id": "f6b395a7",
   "metadata": {},
   "outputs": [],
   "source": [
    "from catboost import CatBoostClassifier#Catboost集成学习分类器\n",
    "\n",
    "features = list(X.columns)\n",
    "model_cb = CatBoostClassifier(iterations=1000,learning_rate=0.1,max_depth=7,verbose=100,\n",
    "                                      early_stopping_rounds=500,task_type='GPU',eval_metric='AUC',\n",
    "                                      )"
   ]
  },
  {
   "cell_type": "code",
   "execution_count": 141,
   "id": "3c6049ab",
   "metadata": {},
   "outputs": [
    {
     "data": {
      "application/vnd.jupyter.widget-view+json": {
       "model_id": "f5851acc05ac4b86bb9689fe70b4b3c7",
       "version_major": 2,
       "version_minor": 0
      },
      "text/plain": [
       "MetricVisualizer(layout=Layout(align_self='stretch', height='500px'))"
      ]
     },
     "metadata": {},
     "output_type": "display_data"
    },
    {
     "name": "stderr",
     "output_type": "stream",
     "text": [
      "Default metric period is 5 because AUC is/are not implemented for GPU\n",
      "AUC is not implemented on GPU. Will use CPU for metric computation, this could significantly affect learning time\n"
     ]
    },
    {
     "name": "stdout",
     "output_type": "stream",
     "text": [
      "0:\ttest: 0.6725113\tbest: 0.6725113 (0)\ttotal: 9.95ms\tremaining: 9.94s\n",
      "120:\ttest: 0.9322524\tbest: 0.9322524 (119)\ttotal: 1.11s\tremaining: 8.1s\n",
      "240:\ttest: 0.9371795\tbest: 0.9375566 (239)\ttotal: 2.16s\tremaining: 6.81s\n",
      "360:\ttest: 0.9425591\tbest: 0.9426094 (351)\ttotal: 3.21s\tremaining: 5.67s\n",
      "480:\ttest: 0.9423077\tbest: 0.9428356 (368)\ttotal: 4.24s\tremaining: 4.58s\n",
      "600:\ttest: 0.9425842\tbest: 0.9439165 (569)\ttotal: 5.29s\tremaining: 3.51s\n",
      "720:\ttest: 0.9452740\tbest: 0.9452740 (718)\ttotal: 6.35s\tremaining: 2.46s\n",
      "840:\ttest: 0.9427099\tbest: 0.9452740 (718)\ttotal: 7.38s\tremaining: 1.4s\n",
      "960:\ttest: 0.9445450\tbest: 0.9456259 (943)\ttotal: 8.4s\tremaining: 341ms\n",
      "999:\ttest: 0.9438411\tbest: 0.9456259 (943)\ttotal: 8.73s\tremaining: 0us\n",
      "bestTest = 0.9456259427\n",
      "bestIteration = 943\n",
      "Shrink model to first 944 iterations.\n"
     ]
    },
    {
     "data": {
      "text/plain": [
       "<catboost.core.CatBoostClassifier at 0x190d706c2b0>"
      ]
     },
     "execution_count": 141,
     "metadata": {},
     "output_type": "execute_result"
    }
   ],
   "source": [
    "model_cb.fit(X_train, y_train, plot=True, \n",
    "             eval_set=(X_test, y_test))"
   ]
  },
  {
   "cell_type": "code",
   "execution_count": 142,
   "id": "e98ef54c",
   "metadata": {},
   "outputs": [],
   "source": [
    "test_pred = model_cb.predict(X_test)\n",
    "test_pred_p = model_cb.predict_proba(X_test)[:,1]"
   ]
  },
  {
   "cell_type": "code",
   "execution_count": 143,
   "id": "06afe72d",
   "metadata": {},
   "outputs": [
    {
     "name": "stdout",
     "output_type": "stream",
     "text": [
      "Classification Report:\n",
      "              precision    recall  f1-score   support\n",
      "\n",
      "           0       0.83      0.80      0.81        30\n",
      "           1       0.85      0.85      0.85        34\n",
      "           2       0.81      0.85      0.83        26\n",
      "\n",
      "    accuracy                           0.83        90\n",
      "   macro avg       0.83      0.83      0.83        90\n",
      "weighted avg       0.83      0.83      0.83        90\n",
      "\n",
      "Accuracy: 0.8333333333333334\n"
     ]
    }
   ],
   "source": [
    "from sklearn.metrics import classification_report#查看catboost的精度\n",
    "\n",
    "\n",
    "result1 = classification_report(y_test, test_pred)\n",
    "print(\"Classification Report:\",)\n",
    "print (result1)\n",
    "result2 = accuracy_score(y_test,test_pred)\n",
    "print(\"Accuracy:\",result2)"
   ]
  },
  {
   "cell_type": "code",
   "execution_count": 57,
   "id": "7636773b",
   "metadata": {},
   "outputs": [
    {
     "ename": "NameError",
     "evalue": "name 'dfdata' is not defined",
     "output_type": "error",
     "traceback": [
      "\u001b[1;31m---------------------------------------------------------------------------\u001b[0m",
      "\u001b[1;31mNameError\u001b[0m                                 Traceback (most recent call last)",
      "\u001b[1;32m<ipython-input-57-550e57fd86c5>\u001b[0m in \u001b[0;36m<module>\u001b[1;34m\u001b[0m\n\u001b[0;32m      1\u001b[0m \u001b[1;31m# 刷选类别特征\u001b[0m\u001b[1;33m\u001b[0m\u001b[1;33m\u001b[0m\u001b[1;33m\u001b[0m\u001b[0m\n\u001b[1;32m----> 2\u001b[1;33m cate_cols = [x for x in dfdata.columns \n\u001b[0m\u001b[0;32m      3\u001b[0m              if dfdata[x].dtype not in [np.float32,np.float64] and x!=label_col]\n\u001b[0;32m      4\u001b[0m \u001b[1;32mfor\u001b[0m \u001b[0mcol\u001b[0m \u001b[1;32min\u001b[0m \u001b[0mcate_cols\u001b[0m\u001b[1;33m:\u001b[0m\u001b[1;33m\u001b[0m\u001b[1;33m\u001b[0m\u001b[0m\n\u001b[0;32m      5\u001b[0m     \u001b[0mdfdata\u001b[0m\u001b[1;33m[\u001b[0m\u001b[0mcol\u001b[0m\u001b[1;33m]\u001b[0m \u001b[1;33m=\u001b[0m \u001b[0mpd\u001b[0m\u001b[1;33m.\u001b[0m\u001b[0mCategorical\u001b[0m\u001b[1;33m(\u001b[0m\u001b[0mdfdata\u001b[0m\u001b[1;33m[\u001b[0m\u001b[0mcol\u001b[0m\u001b[1;33m]\u001b[0m\u001b[1;33m)\u001b[0m\u001b[1;33m\u001b[0m\u001b[1;33m\u001b[0m\u001b[0m\n",
      "\u001b[1;31mNameError\u001b[0m: name 'dfdata' is not defined"
     ]
    }
   ],
   "source": [
    "# 刷选类别特征\n",
    "cate_cols = [x for x in dfdata.columns \n",
    "             if dfdata[x].dtype not in [np.float32,np.float64] and x!=label_col]\n",
    "for col in cate_cols:\n",
    "    dfdata[col] = pd.Categorical(dfdata[col]) \n",
    "    dftest[col] = pd.Categorical(dftest[col]) \n"
   ]
  },
  {
   "cell_type": "code",
   "execution_count": 56,
   "id": "2d58f9b2",
   "metadata": {},
   "outputs": [
    {
     "data": {
      "application/vnd.jupyter.widget-view+json": {
       "model_id": "28c31a4c298b41918289ad9b71523d6b",
       "version_major": 2,
       "version_minor": 0
      },
      "text/plain": [
       "MetricVisualizer(layout=Layout(align_self='stretch', height='500px'))"
      ]
     },
     "metadata": {},
     "output_type": "display_data"
    },
    {
     "name": "stdout",
     "output_type": "stream",
     "text": [
      "Training on fold [0/5]\n"
     ]
    },
    {
     "ename": "CatBoostError",
     "evalue": "C:/Program Files (x86)/Go Agent/pipelines/BuildMaster/catboost.git/catboost/private/libs/target/target_converter.cpp:379: Target with classes must contain only 2 unique values for binary classification",
     "output_type": "error",
     "traceback": [
      "\u001b[1;31m---------------------------------------------------------------------------\u001b[0m",
      "\u001b[1;31mCatBoostError\u001b[0m                             Traceback (most recent call last)",
      "\u001b[1;32m<ipython-input-56-b6b9a31b918b>\u001b[0m in \u001b[0;36m<module>\u001b[1;34m\u001b[0m\n\u001b[0;32m      9\u001b[0m \u001b[0mparams\u001b[0m\u001b[1;33m[\u001b[0m\u001b[1;34m'learning_rate'\u001b[0m\u001b[1;33m]\u001b[0m \u001b[1;33m=\u001b[0m \u001b[1;36m0.5\u001b[0m\u001b[1;33m\u001b[0m\u001b[1;33m\u001b[0m\u001b[0m\n\u001b[0;32m     10\u001b[0m \u001b[1;31m# 直接使用catboost中自带的cv参数。\u001b[0m\u001b[1;33m\u001b[0m\u001b[1;33m\u001b[0m\u001b[1;33m\u001b[0m\u001b[0m\n\u001b[1;32m---> 11\u001b[1;33m cv_data = cv(\n\u001b[0m\u001b[0;32m     12\u001b[0m     \u001b[0mparams\u001b[0m \u001b[1;33m=\u001b[0m \u001b[0mparams\u001b[0m\u001b[1;33m,\u001b[0m\u001b[1;33m\u001b[0m\u001b[1;33m\u001b[0m\u001b[0m\n\u001b[0;32m     13\u001b[0m     \u001b[0mpool\u001b[0m\u001b[1;33m=\u001b[0m\u001b[0mPool\u001b[0m\u001b[1;33m(\u001b[0m\u001b[0mdata\u001b[0m\u001b[1;33m=\u001b[0m\u001b[0mX\u001b[0m\u001b[1;33m,\u001b[0m \u001b[0mlabel\u001b[0m\u001b[1;33m=\u001b[0m\u001b[0my\u001b[0m\u001b[1;33m)\u001b[0m\u001b[1;33m,\u001b[0m\u001b[1;33m\u001b[0m\u001b[1;33m\u001b[0m\u001b[0m\n",
      "\u001b[1;32mD:\\Anaconda3\\lib\\site-packages\\catboost\\core.py\u001b[0m in \u001b[0;36mcv\u001b[1;34m(pool, params, dtrain, iterations, num_boost_round, fold_count, nfold, inverted, partition_random_seed, seed, shuffle, logging_level, stratified, as_pandas, metric_period, verbose, verbose_eval, plot, plot_file, early_stopping_rounds, save_snapshot, snapshot_file, snapshot_interval, metric_update_interval, folds, type, return_models, log_cout, log_cerr)\u001b[0m\n\u001b[0;32m   6648\u001b[0m     \u001b[1;32mwith\u001b[0m \u001b[0mlog_fixup\u001b[0m\u001b[1;33m(\u001b[0m\u001b[0mlog_cout\u001b[0m\u001b[1;33m,\u001b[0m \u001b[0mlog_cerr\u001b[0m\u001b[1;33m)\u001b[0m\u001b[1;33m,\u001b[0m \u001b[0mplot_wrapper\u001b[0m\u001b[1;33m(\u001b[0m\u001b[0mplot\u001b[0m\u001b[1;33m,\u001b[0m \u001b[0mplot_file\u001b[0m\u001b[1;33m=\u001b[0m\u001b[0mplot_file\u001b[0m\u001b[1;33m,\u001b[0m \u001b[0mplot_title\u001b[0m\u001b[1;33m=\u001b[0m\u001b[1;34m'Cross-validation plot'\u001b[0m\u001b[1;33m,\u001b[0m \u001b[0mtrain_dirs\u001b[0m\u001b[1;33m=\u001b[0m\u001b[0mplot_dirs\u001b[0m\u001b[1;33m)\u001b[0m\u001b[1;33m:\u001b[0m\u001b[1;33m\u001b[0m\u001b[1;33m\u001b[0m\u001b[0m\n\u001b[0;32m   6649\u001b[0m         \u001b[1;32mif\u001b[0m \u001b[1;32mnot\u001b[0m \u001b[0mreturn_models\u001b[0m\u001b[1;33m:\u001b[0m\u001b[1;33m\u001b[0m\u001b[1;33m\u001b[0m\u001b[0m\n\u001b[1;32m-> 6650\u001b[1;33m             return _cv(params, pool, fold_count, inverted, partition_random_seed, shuffle, stratified,\n\u001b[0m\u001b[0;32m   6651\u001b[0m                     metric_update_interval, as_pandas, folds, type, return_models)\n\u001b[0;32m   6652\u001b[0m         \u001b[1;32melse\u001b[0m\u001b[1;33m:\u001b[0m\u001b[1;33m\u001b[0m\u001b[1;33m\u001b[0m\u001b[0m\n",
      "\u001b[1;32m_catboost.pyx\u001b[0m in \u001b[0;36m_catboost._cv\u001b[1;34m()\u001b[0m\n",
      "\u001b[1;32m_catboost.pyx\u001b[0m in \u001b[0;36m_catboost._cv\u001b[1;34m()\u001b[0m\n",
      "\u001b[1;31mCatBoostError\u001b[0m: C:/Program Files (x86)/Go Agent/pipelines/BuildMaster/catboost.git/catboost/private/libs/target/target_converter.cpp:379: Target with classes must contain only 2 unique values for binary classification"
     ]
    }
   ],
   "source": [
    "from catboost import cv\n",
    "from catboost import CatBoostClassifier, Pool, metrics, cv\n",
    "# 设置参数空间\n",
    "params = {}\n",
    "params['loss_function'] = 'Logloss'\n",
    "params['iterations'] = 80\n",
    "params['custom_loss'] = 'AUC'\n",
    "params['random_seed'] = 63\n",
    "params['learning_rate'] = 0.5\n",
    "# 直接使用catboost中自带的cv参数。\n",
    "cv_data = cv(\n",
    "    params = params,\n",
    "    pool=Pool(data=X, label=y),\n",
    "    fold_count=5,\n",
    "    shuffle=True,\n",
    "    partition_random_seed=0,\n",
    "    plot=True,   # 设置可视化过程\n",
    "    stratified=False, \n",
    "    verbose=False\n",
    ")"
   ]
  },
  {
   "cell_type": "code",
   "execution_count": null,
   "id": "5d66a996",
   "metadata": {},
   "outputs": [],
   "source": []
  }
 ],
 "metadata": {
  "kernelspec": {
   "display_name": "Python 3",
   "language": "python",
   "name": "python3"
  },
  "language_info": {
   "codemirror_mode": {
    "name": "ipython",
    "version": 3
   },
   "file_extension": ".py",
   "mimetype": "text/x-python",
   "name": "python",
   "nbconvert_exporter": "python",
   "pygments_lexer": "ipython3",
   "version": "3.8.8"
  }
 },
 "nbformat": 4,
 "nbformat_minor": 5
}
